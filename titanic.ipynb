{
 "cells": [
  {
   "cell_type": "markdown",
   "metadata": {},
   "source": [
    "# `Titanic`"
   ]
  },
  {
   "cell_type": "markdown",
   "metadata": {},
   "source": [
    "## `概要`\n",
    "\n",
    "### タイタニック号の乗客の情報から、生存したか否かを予測する"
   ]
  },
  {
   "cell_type": "markdown",
   "metadata": {},
   "source": [
    "## `評価方法`\n",
    "\n",
    "### 評価関数「AUC」を使用"
   ]
  },
  {
   "cell_type": "markdown",
   "metadata": {},
   "source": [
    "## `説明変数`\n",
    "\n",
    "+ PassengerId – 乗客識別ユニークID\n",
    "+ Survived – 生存フラグ（0=死亡、1=生存）\n",
    "+ Pclass – チケットクラス\n",
    "    + 1 = 上層クラス（お金持ち）\n",
    "    + 2 = 中級クラス（一般階級）\n",
    "    + 3 = 下層クラス（労働階級）\n",
    "+ Name – 乗客の名前\n",
    "+ Sex – 性別（male=男性、female＝女性）\n",
    "+ Age – 年齢\n",
    "+ SibSp – タイタニックに同乗している兄弟/配偶者の数\n",
    "+ parch – タイタニックに同乗している親/子供の数\n",
    "+ ticket – チケット番号\n",
    "+ fare – 料金\n",
    "+ cabin – 客室番号\n",
    "+ Embarked – 出港地（タイタニックへ乗った港）"
   ]
  },
  {
   "cell_type": "markdown",
   "metadata": {},
   "source": [
    "---"
   ]
  },
  {
   "cell_type": "code",
   "execution_count": 3,
   "metadata": {},
   "outputs": [],
   "source": [
    "import pandas as pd\n",
    "import numpy as np\n",
    "import seaborn as sns\n",
    "sns.set()\n",
    "import matplotlib.pyplot as plt\n",
    "import warnings\n",
    "warnings.simplefilter('ignore')"
   ]
  },
  {
   "cell_type": "code",
   "execution_count": 4,
   "metadata": {},
   "outputs": [],
   "source": [
    "train = pd.read_csv('/Users/kiiiita/Documents/Kaggle/titanic/train.csv')\n",
    "test = pd.read_csv('/Users/kiiiita/Documents/Kaggle/titanic/test.csv')\n",
    "y_test = pd.read_csv('/Users/kiiiita/Documents/Kaggle/titanic/gender_submission.csv')\n",
    "dataset = pd.concat([train, test], ignore_index=True)\n",
    "df_train = train\n",
    "df_test = test"
   ]
  },
  {
   "cell_type": "code",
   "execution_count": 7,
   "metadata": {},
   "outputs": [
    {
     "data": {
      "text/html": [
       "<div>\n",
       "<style scoped>\n",
       "    .dataframe tbody tr th:only-of-type {\n",
       "        vertical-align: middle;\n",
       "    }\n",
       "\n",
       "    .dataframe tbody tr th {\n",
       "        vertical-align: top;\n",
       "    }\n",
       "\n",
       "    .dataframe thead th {\n",
       "        text-align: right;\n",
       "    }\n",
       "</style>\n",
       "<table border=\"1\" class=\"dataframe\">\n",
       "  <thead>\n",
       "    <tr style=\"text-align: right;\">\n",
       "      <th></th>\n",
       "      <th>PassengerId</th>\n",
       "      <th>Survived</th>\n",
       "      <th>Pclass</th>\n",
       "      <th>Name</th>\n",
       "      <th>Sex</th>\n",
       "      <th>Age</th>\n",
       "      <th>SibSp</th>\n",
       "      <th>Parch</th>\n",
       "      <th>Ticket</th>\n",
       "      <th>Fare</th>\n",
       "      <th>Cabin</th>\n",
       "      <th>Embarked</th>\n",
       "    </tr>\n",
       "  </thead>\n",
       "  <tbody>\n",
       "    <tr>\n",
       "      <th>0</th>\n",
       "      <td>1</td>\n",
       "      <td>0</td>\n",
       "      <td>3</td>\n",
       "      <td>Braund, Mr. Owen Harris</td>\n",
       "      <td>male</td>\n",
       "      <td>22.0</td>\n",
       "      <td>1</td>\n",
       "      <td>0</td>\n",
       "      <td>A/5 21171</td>\n",
       "      <td>7.2500</td>\n",
       "      <td>NaN</td>\n",
       "      <td>S</td>\n",
       "    </tr>\n",
       "    <tr>\n",
       "      <th>1</th>\n",
       "      <td>2</td>\n",
       "      <td>1</td>\n",
       "      <td>1</td>\n",
       "      <td>Cumings, Mrs. John Bradley (Florence Briggs Th...</td>\n",
       "      <td>female</td>\n",
       "      <td>38.0</td>\n",
       "      <td>1</td>\n",
       "      <td>0</td>\n",
       "      <td>PC 17599</td>\n",
       "      <td>71.2833</td>\n",
       "      <td>C85</td>\n",
       "      <td>C</td>\n",
       "    </tr>\n",
       "    <tr>\n",
       "      <th>2</th>\n",
       "      <td>3</td>\n",
       "      <td>1</td>\n",
       "      <td>3</td>\n",
       "      <td>Heikkinen, Miss. Laina</td>\n",
       "      <td>female</td>\n",
       "      <td>26.0</td>\n",
       "      <td>0</td>\n",
       "      <td>0</td>\n",
       "      <td>STON/O2. 3101282</td>\n",
       "      <td>7.9250</td>\n",
       "      <td>NaN</td>\n",
       "      <td>S</td>\n",
       "    </tr>\n",
       "    <tr>\n",
       "      <th>3</th>\n",
       "      <td>4</td>\n",
       "      <td>1</td>\n",
       "      <td>1</td>\n",
       "      <td>Futrelle, Mrs. Jacques Heath (Lily May Peel)</td>\n",
       "      <td>female</td>\n",
       "      <td>35.0</td>\n",
       "      <td>1</td>\n",
       "      <td>0</td>\n",
       "      <td>113803</td>\n",
       "      <td>53.1000</td>\n",
       "      <td>C123</td>\n",
       "      <td>S</td>\n",
       "    </tr>\n",
       "    <tr>\n",
       "      <th>4</th>\n",
       "      <td>5</td>\n",
       "      <td>0</td>\n",
       "      <td>3</td>\n",
       "      <td>Allen, Mr. William Henry</td>\n",
       "      <td>male</td>\n",
       "      <td>35.0</td>\n",
       "      <td>0</td>\n",
       "      <td>0</td>\n",
       "      <td>373450</td>\n",
       "      <td>8.0500</td>\n",
       "      <td>NaN</td>\n",
       "      <td>S</td>\n",
       "    </tr>\n",
       "    <tr>\n",
       "      <th>...</th>\n",
       "      <td>...</td>\n",
       "      <td>...</td>\n",
       "      <td>...</td>\n",
       "      <td>...</td>\n",
       "      <td>...</td>\n",
       "      <td>...</td>\n",
       "      <td>...</td>\n",
       "      <td>...</td>\n",
       "      <td>...</td>\n",
       "      <td>...</td>\n",
       "      <td>...</td>\n",
       "      <td>...</td>\n",
       "    </tr>\n",
       "    <tr>\n",
       "      <th>886</th>\n",
       "      <td>887</td>\n",
       "      <td>0</td>\n",
       "      <td>2</td>\n",
       "      <td>Montvila, Rev. Juozas</td>\n",
       "      <td>male</td>\n",
       "      <td>27.0</td>\n",
       "      <td>0</td>\n",
       "      <td>0</td>\n",
       "      <td>211536</td>\n",
       "      <td>13.0000</td>\n",
       "      <td>NaN</td>\n",
       "      <td>S</td>\n",
       "    </tr>\n",
       "    <tr>\n",
       "      <th>887</th>\n",
       "      <td>888</td>\n",
       "      <td>1</td>\n",
       "      <td>1</td>\n",
       "      <td>Graham, Miss. Margaret Edith</td>\n",
       "      <td>female</td>\n",
       "      <td>19.0</td>\n",
       "      <td>0</td>\n",
       "      <td>0</td>\n",
       "      <td>112053</td>\n",
       "      <td>30.0000</td>\n",
       "      <td>B42</td>\n",
       "      <td>S</td>\n",
       "    </tr>\n",
       "    <tr>\n",
       "      <th>888</th>\n",
       "      <td>889</td>\n",
       "      <td>0</td>\n",
       "      <td>3</td>\n",
       "      <td>Johnston, Miss. Catherine Helen \"Carrie\"</td>\n",
       "      <td>female</td>\n",
       "      <td>NaN</td>\n",
       "      <td>1</td>\n",
       "      <td>2</td>\n",
       "      <td>W./C. 6607</td>\n",
       "      <td>23.4500</td>\n",
       "      <td>NaN</td>\n",
       "      <td>S</td>\n",
       "    </tr>\n",
       "    <tr>\n",
       "      <th>889</th>\n",
       "      <td>890</td>\n",
       "      <td>1</td>\n",
       "      <td>1</td>\n",
       "      <td>Behr, Mr. Karl Howell</td>\n",
       "      <td>male</td>\n",
       "      <td>26.0</td>\n",
       "      <td>0</td>\n",
       "      <td>0</td>\n",
       "      <td>111369</td>\n",
       "      <td>30.0000</td>\n",
       "      <td>C148</td>\n",
       "      <td>C</td>\n",
       "    </tr>\n",
       "    <tr>\n",
       "      <th>890</th>\n",
       "      <td>891</td>\n",
       "      <td>0</td>\n",
       "      <td>3</td>\n",
       "      <td>Dooley, Mr. Patrick</td>\n",
       "      <td>male</td>\n",
       "      <td>32.0</td>\n",
       "      <td>0</td>\n",
       "      <td>0</td>\n",
       "      <td>370376</td>\n",
       "      <td>7.7500</td>\n",
       "      <td>NaN</td>\n",
       "      <td>Q</td>\n",
       "    </tr>\n",
       "  </tbody>\n",
       "</table>\n",
       "<p>891 rows × 12 columns</p>\n",
       "</div>"
      ],
      "text/plain": [
       "     PassengerId  Survived  Pclass  \\\n",
       "0              1         0       3   \n",
       "1              2         1       1   \n",
       "2              3         1       3   \n",
       "3              4         1       1   \n",
       "4              5         0       3   \n",
       "..           ...       ...     ...   \n",
       "886          887         0       2   \n",
       "887          888         1       1   \n",
       "888          889         0       3   \n",
       "889          890         1       1   \n",
       "890          891         0       3   \n",
       "\n",
       "                                                  Name     Sex   Age  SibSp  \\\n",
       "0                              Braund, Mr. Owen Harris    male  22.0      1   \n",
       "1    Cumings, Mrs. John Bradley (Florence Briggs Th...  female  38.0      1   \n",
       "2                               Heikkinen, Miss. Laina  female  26.0      0   \n",
       "3         Futrelle, Mrs. Jacques Heath (Lily May Peel)  female  35.0      1   \n",
       "4                             Allen, Mr. William Henry    male  35.0      0   \n",
       "..                                                 ...     ...   ...    ...   \n",
       "886                              Montvila, Rev. Juozas    male  27.0      0   \n",
       "887                       Graham, Miss. Margaret Edith  female  19.0      0   \n",
       "888           Johnston, Miss. Catherine Helen \"Carrie\"  female   NaN      1   \n",
       "889                              Behr, Mr. Karl Howell    male  26.0      0   \n",
       "890                                Dooley, Mr. Patrick    male  32.0      0   \n",
       "\n",
       "     Parch            Ticket     Fare Cabin Embarked  \n",
       "0        0         A/5 21171   7.2500   NaN        S  \n",
       "1        0          PC 17599  71.2833   C85        C  \n",
       "2        0  STON/O2. 3101282   7.9250   NaN        S  \n",
       "3        0            113803  53.1000  C123        S  \n",
       "4        0            373450   8.0500   NaN        S  \n",
       "..     ...               ...      ...   ...      ...  \n",
       "886      0            211536  13.0000   NaN        S  \n",
       "887      0            112053  30.0000   B42        S  \n",
       "888      2        W./C. 6607  23.4500   NaN        S  \n",
       "889      0            111369  30.0000  C148        C  \n",
       "890      0            370376   7.7500   NaN        Q  \n",
       "\n",
       "[891 rows x 12 columns]"
      ]
     },
     "execution_count": 7,
     "metadata": {},
     "output_type": "execute_result"
    }
   ],
   "source": [
    "df_train"
   ]
  },
  {
   "cell_type": "code",
   "execution_count": 3,
   "metadata": {},
   "outputs": [],
   "source": [
    "#df = pd.read_table('/Users/kiiiita/Documents/Kaggle/titanic/train.csv')\n",
    "#pdp.ProfileReport(df)"
   ]
  },
  {
   "cell_type": "code",
   "execution_count": 4,
   "metadata": {},
   "outputs": [
    {
     "data": {
      "text/plain": [
       "(891, 12)"
      ]
     },
     "execution_count": 4,
     "metadata": {},
     "output_type": "execute_result"
    }
   ],
   "source": [
    "train.shape"
   ]
  },
  {
   "cell_type": "code",
   "execution_count": 5,
   "metadata": {},
   "outputs": [
    {
     "data": {
      "text/plain": [
       "PassengerId       0\n",
       "Survived        418\n",
       "Pclass            0\n",
       "Name              0\n",
       "Sex               0\n",
       "Age             263\n",
       "SibSp             0\n",
       "Parch             0\n",
       "Ticket            0\n",
       "Fare              1\n",
       "Cabin          1014\n",
       "Embarked          2\n",
       "dtype: int64"
      ]
     },
     "execution_count": 5,
     "metadata": {},
     "output_type": "execute_result"
    }
   ],
   "source": [
    "dataset.isnull().sum()"
   ]
  },
  {
   "cell_type": "markdown",
   "metadata": {},
   "source": [
    "# Nameのグループ分け (敬称利用)"
   ]
  },
  {
   "cell_type": "code",
   "execution_count": 6,
   "metadata": {},
   "outputs": [
    {
     "data": {
      "text/plain": [
       "Gilnagh, Miss. Katherine \"Katie\"              1\n",
       "Denkoff, Mr. Mitto                            1\n",
       "Sage, Mr. Douglas Bullen                      1\n",
       "Saad, Mr. Khalil                              1\n",
       "Bishop, Mrs. Dickinson H (Helen Walton)       1\n",
       "                                             ..\n",
       "Webber, Mr. James                             1\n",
       "Butt, Major. Archibald Willingham             1\n",
       "Asplund, Miss. Lillian Gertrud                1\n",
       "Strom, Mrs. Wilhelm (Elna Matilda Persson)    1\n",
       "Elias, Mr. Tannous                            1\n",
       "Name: Name, Length: 891, dtype: int64"
      ]
     },
     "execution_count": 6,
     "metadata": {},
     "output_type": "execute_result"
    }
   ],
   "source": [
    "train['Name'].value_counts()"
   ]
  },
  {
   "cell_type": "markdown",
   "metadata": {},
   "source": [
    "---\n",
    "### 敬称一覧\n",
    "\"\"\"\n",
    "\n",
    "Mr：男 , Master：男の子, Jonkheer：オランダ貴族(男), \n",
    "\n",
    "Mlle：マドモワゼル (フランス未婚女性), Miss：未婚女性、女の子, Mme：マダム(フランス既婚女性), Ms：女性(未婚・既婚問わず), Mrs：既婚女性, \n",
    "\n",
    "Don：男(スペイン), Sir：男(イギリス), the Countess：伯爵夫人, Dona：既婚女性(スペイン), Lady：既婚女性(イギリス),\n",
    "\n",
    "Capt：船長, Col：大佐, Major：軍人, Dr：医者, Rev：聖職者や牧師\n",
    "\n",
    "\"\"\""
   ]
  },
  {
   "cell_type": "code",
   "execution_count": 7,
   "metadata": {},
   "outputs": [
    {
     "data": {
      "text/plain": [
       "[Text(0.5, 0, 'Jonkheer. ')]"
      ]
     },
     "execution_count": 7,
     "metadata": {},
     "output_type": "execute_result"
    },
    {
     "data": {
      "image/png": "[encoded data removed]",
      "text/plain": [
       "<Figure size 1440x1080 with 16 Axes>"
      ]
     },
     "metadata": {
      "needs_background": "light"
     },
     "output_type": "display_data"
    }
   ],
   "source": [
    "%matplotlib inline\n",
    "fig, axes = plt.subplots(4, 4, figsize=(20, 15))\n",
    "sns.barplot(x=train['Name'].str.contains('Mr. '), y=train['Survived'], ax=axes[0,0])\n",
    "axes[0,0].set(xlabel= 'Mr. ')\n",
    "sns.barplot(x=train['Name'].str.contains('Mrs. '), y=train['Survived'], ax=axes[0,1])\n",
    "axes[0,1].set(xlabel='Mrs. ')\n",
    "sns.barplot(x=train['Name'].str.contains('Miss. '), y=train['Survived'], ax=axes[0,2])\n",
    "axes[0,2].set(xlabel='Miss. ')\n",
    "sns.barplot(x=train['Name'].str.contains('Master. '), y=train['Survived'], ax=axes[0,3])\n",
    "axes[0,3].set(xlabel='Master. ')\n",
    "sns.barplot(x=train['Name'].str.contains('Dr. '), y=train['Survived'], ax=axes[1,0])\n",
    "axes[1,0].set(xlabel='Dr. ')\n",
    "sns.barplot(x=train['Name'].str.contains('Rev. '), y=train['Survived'], ax=axes[1,1])\n",
    "axes[1,1].set(xlabel='Rev. ')\n",
    "sns.barplot(x=train['Name'].str.contains('Major. '), y=train['Survived'], ax=axes[1,2])\n",
    "axes[1,2].set(xlabel='Major. ')\n",
    "sns.barplot(x=train['Name'].str.contains('Mlle. '), y=train['Survived'], ax=axes[1,3])\n",
    "axes[1,3].set(xlabel='Mlle. ')\n",
    "sns.barplot(x=train['Name'].str.contains('Col. '), y=train['Survived'], ax=axes[2,0])\n",
    "axes[2,0].set(xlabel='Col. ')\n",
    "sns.barplot(x=train['Name'].str.contains('Don. '), y=train['Survived'], ax=axes[2,1])\n",
    "axes[2,1].set(xlabel='Don. ')\n",
    "sns.barplot(x=train['Name'].str.contains('Mme. '), y=train['Survived'], ax=axes[2,2])\n",
    "axes[2,2].set(xlabel='Mme. ')\n",
    "sns.barplot(x=train['Name'].str.contains('Ms. '), y=train['Survived'], ax=axes[2,3])\n",
    "axes[2,3].set(xlabel='Ms. ')\n",
    "sns.barplot(x=train['Name'].str.contains('Sir. '), y=train['Survived'], ax=axes[3,0])\n",
    "axes[3,0].set(xlabel='Sir. ')\n",
    "sns.barplot(x=train['Name'].str.contains('Capt. '), y=train['Survived'], ax=axes[3,1])\n",
    "axes[3,1].set(xlabel='Capt. ')\n",
    "sns.barplot(x=train['Name'].str.contains('the Countess. '), y=train['Survived'], ax=axes[3,2])\n",
    "axes[3,2].set(xlabel='the Countess. ')\n",
    "sns.barplot(x=train['Name'].str.contains('Jonkheer. '), y=train['Survived'], ax=axes[3,3])\n",
    "axes[3,3].set(xlabel='Jonkheer. ')\n"
   ]
  },
  {
   "cell_type": "code",
   "execution_count": 8,
   "metadata": {},
   "outputs": [
    {
     "data": {
      "text/plain": [
       "<matplotlib.axes._subplots.AxesSubplot at 0x7fdaf1349ed0>"
      ]
     },
     "execution_count": 8,
     "metadata": {},
     "output_type": "execute_result"
    },
    {
     "data": {
      "image/png": "[encoded data removed]",
      "text/plain": [
       "<Figure size 432x288 with 1 Axes>"
      ]
     },
     "metadata": {
      "needs_background": "light"
     },
     "output_type": "display_data"
    }
   ],
   "source": [
    "# 'Honorifics (敬称)による特徴別に分ける'\n",
    "df_train['Honorifics'] = df_train['Name'].apply(lambda x:x.split(',')[1].split('.')[0].strip())\n",
    "df_test['Honorifics'] = df_test['Name'].apply(lambda x:x.split(',')[1].split('.')[0].strip())\n",
    "\n",
    "# 敬称をグループ分け\n",
    "Honorifics_Dict_train = {}\n",
    "Honorifics_Dict_train.update(dict.fromkeys(['Capt', 'Col', 'Major', 'Dr', 'Rev'], 'Officer'))\n",
    "Honorifics_Dict_train.update(dict.fromkeys(['Don', 'Sir', 'the Countess', 'Jonkheer', 'Master'], 'Royalty'))\n",
    "Honorifics_Dict_train.update(dict.fromkeys(['Mme', 'Dona', 'Lady', 'Ms', 'Mrs'], 'Mrs'))\n",
    "Honorifics_Dict_train.update(dict.fromkeys(['Mlle', 'Miss'], 'Miss'))\n",
    "Honorifics_Dict_train.update(dict.fromkeys(['Mr'], 'Mr'))\n",
    "df_train['Honorifics'] = df_train['Honorifics'].map(Honorifics_Dict_train)\n",
    "Honorifics_Dict_test = {}\n",
    "Honorifics_Dict_test.update(dict.fromkeys(['Capt', 'Col', 'Major', 'Dr', 'Rev'], 'Officer'))\n",
    "Honorifics_Dict_test.update(dict.fromkeys(['Don', 'Sir', 'the Countess', 'Jonkheer', 'Master'], 'Royalty'))\n",
    "Honorifics_Dict_test.update(dict.fromkeys(['Mme', 'Dona', 'Lady', 'Ms', 'Mrs'], 'Mrs'))\n",
    "Honorifics_Dict_test.update(dict.fromkeys(['Mlle', 'Miss'], 'Miss'))\n",
    "Honorifics_Dict_test.update(dict.fromkeys(['Mr'], 'Mr'))\n",
    "df_test['Honorifics'] = df_test['Honorifics'].map(Honorifics_Dict_test)\n",
    "\n",
    "sns.barplot(x='Honorifics', y='Survived', data=df_train, palette='Set3')"
   ]
  },
  {
   "cell_type": "code",
   "execution_count": 9,
   "metadata": {},
   "outputs": [
    {
     "data": {
      "text/plain": [
       "Counter({' Mr': 757,\n",
       "         ' Mrs': 197,\n",
       "         ' Miss': 260,\n",
       "         ' Master': 61,\n",
       "         ' Don': 1,\n",
       "         ' Rev': 8,\n",
       "         ' Dr': 8,\n",
       "         ' Mme': 1,\n",
       "         ' Ms': 2,\n",
       "         ' Major': 2,\n",
       "         ' Lady': 1,\n",
       "         ' Sir': 1,\n",
       "         ' Mlle': 2,\n",
       "         ' Col': 4,\n",
       "         ' Capt': 1,\n",
       "         ' the Countess': 1,\n",
       "         ' Jonkheer': 1,\n",
       "         ' Dona': 1})"
      ]
     },
     "execution_count": 9,
     "metadata": {},
     "output_type": "execute_result"
    }
   ],
   "source": [
    "import collections\n",
    "\n",
    "name_group = []\n",
    "for i in range(dataset.Name.shape[0]):\n",
    "    name = dataset['Name'][i].split(',')[1]\n",
    "    name = name.split('.')[0]\n",
    "    name_group.append(name)\n",
    "collections.Counter(name_group)"
   ]
  },
  {
   "cell_type": "markdown",
   "metadata": {},
   "source": [
    "---\n",
    "# チケット番号"
   ]
  },
  {
   "cell_type": "code",
   "execution_count": 10,
   "metadata": {},
   "outputs": [
    {
     "data": {
      "text/plain": [
       "0           A/5 21171\n",
       "1            PC 17599\n",
       "2    STON/O2. 3101282\n",
       "3              113803\n",
       "4              373450\n",
       "Name: Ticket, dtype: object"
      ]
     },
     "execution_count": 10,
     "metadata": {},
     "output_type": "execute_result"
    }
   ],
   "source": [
    "df_train['Ticket'].head()"
   ]
  },
  {
   "cell_type": "code",
   "execution_count": 11,
   "metadata": {
    "scrolled": true
   },
   "outputs": [],
   "source": [
    "num_alpha_ticket = df_train[df_train['Ticket'].str.contains('[A-Z]+.+')]\n",
    "number_ticket = df_train[df_train['Ticket'].str.match('[0-9]+')]\n",
    "num_alpha_ticket_test = df_test[df_test['Ticket'].str.contains('[A-Z]+.+')]\n",
    "number_ticket_test = df_test[df_test['Ticket'].str.match('[0-9]+')]"
   ]
  },
  {
   "cell_type": "markdown",
   "metadata": {},
   "source": [
    "## 数字だけのチケットに着目"
   ]
  },
  {
   "cell_type": "code",
   "execution_count": 12,
   "metadata": {},
   "outputs": [
    {
     "data": {
      "image/png": "[encoded data removed]",
      "text/plain": [
       "<Figure size 432x288 with 1 Axes>"
      ]
     },
     "metadata": {
      "needs_background": "light"
     },
     "output_type": "display_data"
    }
   ],
   "source": [
    "# 数字だけのチケットを見る\n",
    "number_ticket['Ticket'] = number_ticket['Ticket'].apply(lambda x:int(x))\n",
    "number_ticket_test['Ticket'] = number_ticket_test['Ticket'].apply(lambda x:int(x))\n",
    "number_ticket.sort_values('Ticket', inplace=True)\n",
    "number_ticket.sort_values('Ticket', inplace=True)\n",
    "\n",
    "plt.figure()\n",
    "plt.plot(number_ticket['Ticket'], '-o') # 縦軸：チケット番号 , 横軸：乗客ID\n",
    "plt.show()"
   ]
  },
  {
   "cell_type": "markdown",
   "metadata": {},
   "source": [
    "+ チケット番号が500000以下のグラフを表示する"
   ]
  },
  {
   "cell_type": "code",
   "execution_count": 13,
   "metadata": {},
   "outputs": [
    {
     "data": {
      "image/png": "[encoded data removed]",
      "text/plain": [
       "<Figure size 432x288 with 1 Axes>"
      ]
     },
     "metadata": {
      "needs_background": "light"
     },
     "output_type": "display_data"
    }
   ],
   "source": [
    "plt.figure()\n",
    "plt.plot(number_ticket['Ticket'], '-o') # 縦軸：チケット番号 , 横軸：乗客ID\n",
    "plt.ylim(0, 500000)\n",
    "plt.show()"
   ]
  },
  {
   "cell_type": "markdown",
   "metadata": {},
   "source": [
    "+ 各層(i=5)でグループ分けして生存率を見る"
   ]
  },
  {
   "cell_type": "code",
   "execution_count": 14,
   "metadata": {},
   "outputs": [
    {
     "data": {
      "image/png": "[encoded data removed]",
      "text/plain": [
       "<Figure size 432x288 with 1 Axes>"
      ]
     },
     "metadata": {
      "needs_background": "light"
     },
     "output_type": "display_data"
    }
   ],
   "source": [
    "x = [1, 2, 3, 4, 5]\n",
    "\n",
    "lowest_num_ticket = number_ticket[number_ticket['Ticket'] <= 100000]\n",
    "sec_lowest_num_ticket = number_ticket[(number_ticket['Ticket'] > 100000) & (number_ticket['Ticket'] <= 200000)]\n",
    "thir_lowest_num_ticket = number_ticket[(number_ticket['Ticket'] > 200000) & (number_ticket['Ticket'] <= 300000)]\n",
    "four_lowest_num_ticket = number_ticket[(number_ticket['Ticket'] > 300000) & (number_ticket['Ticket'] <= 400000)]\n",
    "high_num_ticket = number_ticket[number_ticket['Ticket'] >= 3000000]\n",
    "y = [lowest_num_ticket['Survived'].mean(),sec_lowest_num_ticket['Survived'].mean(),\n",
    "    thir_lowest_num_ticket['Survived'].mean(),four_lowest_num_ticket['Survived'].mean(),\n",
    "    high_num_ticket['Survived'].mean()]\n",
    "\n",
    "plt.figure()\n",
    "plt.bar(x, y)\n",
    "plt.xlabel('ticket number')\n",
    "plt.ylabel('Survived')\n",
    "plt.show()"
   ]
  },
  {
   "cell_type": "markdown",
   "metadata": {},
   "source": [
    "+ 数字が大きいほど、生存率が低くなる傾向がある"
   ]
  },
  {
   "cell_type": "markdown",
   "metadata": {},
   "source": [
    "## アルファベットが入ったチケットに着目"
   ]
  },
  {
   "cell_type": "code",
   "execution_count": 15,
   "metadata": {
    "scrolled": true
   },
   "outputs": [
    {
     "data": {
      "image/png": "[encoded data removed]",
      "text/plain": [
       "<Figure size 432x288 with 1 Axes>"
      ]
     },
     "metadata": {
      "needs_background": "light"
     },
     "output_type": "display_data"
    }
   ],
   "source": [
    "A_ticket = num_alpha_ticket[num_alpha_ticket['Ticket'].str.match('A.+')]\n",
    "CA_ticket = num_alpha_ticket[num_alpha_ticket['Ticket'].str.match('C\\.*A\\.*.+')]\n",
    "PC_ticket = num_alpha_ticket[num_alpha_ticket['Ticket'].str.match('PC.+')]\n",
    "PP_ticket = num_alpha_ticket[num_alpha_ticket['Ticket'].str.match('PP.+')]\n",
    "SOTON_ticket = num_alpha_ticket[num_alpha_ticket['Ticket'].str.match('SOTON.+')]\n",
    "STON_ticket = num_alpha_ticket[num_alpha_ticket['Ticket'].str.match('STON.+')]\n",
    "LINE_ticket = num_alpha_ticket[num_alpha_ticket['Ticket'].str.match('LINE.*')]\n",
    "FC_ticket = num_alpha_ticket[num_alpha_ticket['Ticket'].str.match('F\\.C\\.(C\\.)*.+')]\n",
    "W_ticket = num_alpha_ticket[num_alpha_ticket['Ticket'].str.match('W.+')]\n",
    "C_ticket = num_alpha_ticket[num_alpha_ticket['Ticket'].str.match('C.+')]\n",
    "SC_ticket = num_alpha_ticket[num_alpha_ticket['Ticket'].str.match('S(\\.)*C.+')]\n",
    "SO_ticket = num_alpha_ticket[num_alpha_ticket['Ticket'].str.match('S(\\.)*O.+')]\n",
    "other_ticket = num_alpha_ticket[\n",
    "    num_alpha_ticket['Ticket'].str.match(\n",
    "        '(Fa)*(P/PP)*(S\\.P)*(S\\.*W)*.+'\n",
    "    )\n",
    "]\n",
    "x = [i for i in range(1, 14)]\n",
    "y = [A_ticket['Survived'].mean(), CA_ticket['Survived'].mean(), PC_ticket['Survived'].mean()\n",
    "    ,PP_ticket['Survived'].mean(), SOTON_ticket['Survived'].mean(), STON_ticket['Survived'].mean()\n",
    "    ,LINE_ticket['Survived'].mean(), FC_ticket['Survived'].mean(), W_ticket['Survived'].mean()\n",
    "    ,C_ticket['Survived'].mean(), SC_ticket['Survived'].mean(), SO_ticket['Survived'].mean()\n",
    "    ,other_ticket['Survived'].mean()\n",
    "    ]\n",
    "plt.figure()\n",
    "plt.bar(x, y)\n",
    "plt.ylabel('survived')\n",
    "plt.show()"
   ]
  },
  {
   "cell_type": "markdown",
   "metadata": {},
   "source": [
    "+ 漏れがないか、確認する"
   ]
  },
  {
   "cell_type": "code",
   "execution_count": 16,
   "metadata": {},
   "outputs": [
    {
     "data": {
      "text/plain": [
       "set()"
      ]
     },
     "execution_count": 16,
     "metadata": {},
     "output_type": "execute_result"
    }
   ],
   "source": [
    "new_set = set(A_ticket['Ticket']) | set(CA_ticket['Ticket']) |\\\n",
    "        set(PC_ticket['Ticket']) | set(PP_ticket['Ticket']) |\\\n",
    "        set(SOTON_ticket['Ticket']) | set(STON_ticket['Ticket']) |\\\n",
    "        set(LINE_ticket['Ticket']) | set(FC_ticket['Ticket']) |\\\n",
    "        set(W_ticket['Ticket']) | set(C_ticket['Ticket']) |\\\n",
    "        set(SC_ticket['Ticket']) | set(SO_ticket['Ticket']) |\\\n",
    "        set(other_ticket['Ticket'])\n",
    "set(num_alpha_ticket['Ticket']) - new_set"
   ]
  },
  {
   "cell_type": "code",
   "execution_count": 17,
   "metadata": {},
   "outputs": [],
   "source": [
    "# 生存率低い順に順位付け\n",
    "number_ticket.loc[number_ticket['Ticket'] <= 100000, 'Ticket'] = 14\n",
    "number_ticket.loc[(number_ticket['Ticket'] > 100000) & (number_ticket['Ticket'] <= 200000), 'Ticket'] = 15\n",
    "number_ticket.loc[(number_ticket['Ticket'] > 200000) & (number_ticket['Ticket'] <= 300000), 'Ticket'] = 13\n",
    "number_ticket.loc[(number_ticket['Ticket'] > 300000) & (number_ticket['Ticket'] <= 400000), 'Ticket'] = 5\n",
    "number_ticket.loc[number_ticket['Ticket'] > 3000000, 'Ticket'] = 6\n",
    "num_alpha_ticket.loc[num_alpha_ticket['Ticket'].str.match('A.+'), 'Ticket'] = \"1\"\n",
    "num_alpha_ticket.loc[num_alpha_ticket['Ticket'].str.match('C\\.*A\\.*.+'), 'Ticket'] = \"8\"\n",
    "num_alpha_ticket.loc[num_alpha_ticket['Ticket'].str.match('PC.+'), 'Ticket'] = \"16\"\n",
    "num_alpha_ticket.loc[num_alpha_ticket['Ticket'].str.match('PP.+'), 'Ticket'] = \"18\"\n",
    "num_alpha_ticket.loc[num_alpha_ticket['Ticket'].str.match('SOTON.+'), 'Ticket'] = \"3\"\n",
    "num_alpha_ticket.loc[num_alpha_ticket['Ticket'].str.match('STON.+'), 'Ticket'] = \"11\"\n",
    "num_alpha_ticket.loc[num_alpha_ticket['Ticket'].str.match('LINE.*'), 'Ticket'] = \"7\"\n",
    "num_alpha_ticket.loc[num_alpha_ticket['Ticket'].str.match('F\\.C\\.(C\\.)*.+'), 'Ticket'] = \"17\"\n",
    "num_alpha_ticket.loc[num_alpha_ticket['Ticket'].str.match('W.+'), 'Ticket'] = \"4\"\n",
    "num_alpha_ticket.loc[num_alpha_ticket['Ticket'].str.match('C.+'), 'Ticket'] = \"9\"\n",
    "num_alpha_ticket.loc[num_alpha_ticket['Ticket'].str.match('S(\\.)*C.+'), 'Ticket'] = \"12\"\n",
    "num_alpha_ticket.loc[num_alpha_ticket['Ticket'].str.match('S(\\.)*O.+'), 'Ticket'] = \"2\"\n",
    "num_alpha_ticket.loc[num_alpha_ticket['Ticket'].str.match('[^\\d](Fa)*(P/PP)*(S\\.P)*(S\\.*W)*.+'), 'Ticket'] = \"10\"\n",
    "\n",
    "number_ticket_test.loc[number_ticket_test['Ticket'] <= 100000, 'Ticket'] = 14\n",
    "number_ticket_test.loc[(number_ticket_test['Ticket'] > 100000) & (number_ticket_test['Ticket'] <= 200000), 'Ticket'] = 15\n",
    "number_ticket_test.loc[(number_ticket_test['Ticket'] > 200000) & (number_ticket_test['Ticket'] <= 300000), 'Ticket'] = 13\n",
    "number_ticket_test.loc[(number_ticket_test['Ticket'] > 300000) & (number_ticket_test['Ticket'] <= 400000), 'Ticket'] = 5\n",
    "number_ticket_test.loc[number_ticket_test['Ticket'] > 3000000, 'Ticket'] = 6\n",
    "num_alpha_ticket_test.loc[num_alpha_ticket_test['Ticket'].str.match('A.+'), 'Ticket'] = \"1\"\n",
    "num_alpha_ticket_test.loc[num_alpha_ticket_test['Ticket'].str.match('C\\.*A\\.*.+'), 'Ticket'] = \"8\"\n",
    "num_alpha_ticket_test.loc[num_alpha_ticket_test['Ticket'].str.match('PC.+'), 'Ticket'] = \"16\"\n",
    "num_alpha_ticket_test.loc[num_alpha_ticket_test['Ticket'].str.match('PP.+'), 'Ticket'] = \"18\"\n",
    "num_alpha_ticket_test.loc[num_alpha_ticket_test['Ticket'].str.match('SOTON.+'), 'Ticket'] = \"3\"\n",
    "num_alpha_ticket_test.loc[num_alpha_ticket_test['Ticket'].str.match('STON.+'), 'Ticket'] = \"11\"\n",
    "num_alpha_ticket_test.loc[num_alpha_ticket_test['Ticket'].str.match('LINE.*'), 'Ticket'] = \"7\"\n",
    "num_alpha_ticket_test.loc[num_alpha_ticket_test['Ticket'].str.match('F\\.C\\.(C\\.)*.+'), 'Ticket'] = \"17\"\n",
    "num_alpha_ticket_test.loc[num_alpha_ticket_test['Ticket'].str.match('W.+'), 'Ticket'] = \"4\"\n",
    "num_alpha_ticket_test.loc[num_alpha_ticket_test['Ticket'].str.match('C.+'), 'Ticket'] = \"9\"\n",
    "num_alpha_ticket_test.loc[num_alpha_ticket_test['Ticket'].str.match('S(\\.)*C.+'), 'Ticket'] = \"12\"\n",
    "num_alpha_ticket_test.loc[num_alpha_ticket_test['Ticket'].str.match('S(\\.)*O.+'), 'Ticket'] = \"2\"\n",
    "num_alpha_ticket_test.loc[num_alpha_ticket_test['Ticket'].str.match('[^\\d](Fa)*(P/PP)*(S\\.P)*(S\\.*W)*.+'), 'Ticket'] = \"10\"\n",
    "\n",
    "\n",
    "num_alpha_ticket['Ticket'] = num_alpha_ticket['Ticket'].apply(lambda x: int(x))\n",
    "num_alpha_ticket_test['Ticket'] = num_alpha_ticket_test['Ticket'].apply(lambda x:int(x))\n",
    "df_train = pd.concat([number_ticket, num_alpha_ticket])\n",
    "df_test = pd.concat([number_ticket_test, num_alpha_ticket_test])\n"
   ]
  },
  {
   "cell_type": "code",
   "execution_count": 18,
   "metadata": {},
   "outputs": [
    {
     "data": {
      "text/plain": [
       "0       5\n",
       "1       5\n",
       "2      13\n",
       "3       5\n",
       "4       6\n",
       "       ..\n",
       "405    12\n",
       "409     3\n",
       "413     1\n",
       "414    16\n",
       "415     3\n",
       "Name: Ticket, Length: 418, dtype: int64"
      ]
     },
     "execution_count": 18,
     "metadata": {},
     "output_type": "execute_result"
    }
   ],
   "source": [
    "df_test['Ticket']"
   ]
  },
  {
   "cell_type": "markdown",
   "metadata": {},
   "source": [
    "-------\n",
    "# 補完"
   ]
  },
  {
   "cell_type": "markdown",
   "metadata": {},
   "source": [
    "---\n",
    "## 年齢"
   ]
  },
  {
   "cell_type": "code",
   "execution_count": 19,
   "metadata": {},
   "outputs": [
    {
     "data": {
      "text/plain": [
       "PassengerId    891\n",
       "Survived       891\n",
       "Pclass         891\n",
       "Name           891\n",
       "Sex            891\n",
       "Age            714\n",
       "SibSp          891\n",
       "Parch          891\n",
       "Ticket         891\n",
       "Fare           891\n",
       "Cabin          204\n",
       "Embarked       889\n",
       "Honorifics     891\n",
       "dtype: int64"
      ]
     },
     "execution_count": 19,
     "metadata": {},
     "output_type": "execute_result"
    }
   ],
   "source": [
    "df_train.count()"
   ]
  },
  {
   "cell_type": "code",
   "execution_count": 20,
   "metadata": {},
   "outputs": [
    {
     "data": {
      "text/plain": [
       "count    714.000000\n",
       "mean      29.699118\n",
       "std       14.526497\n",
       "min        0.420000\n",
       "25%       20.125000\n",
       "50%       28.000000\n",
       "75%       38.000000\n",
       "max       80.000000\n",
       "Name: Age, dtype: float64"
      ]
     },
     "execution_count": 20,
     "metadata": {},
     "output_type": "execute_result"
    }
   ],
   "source": [
    "df_train['Age'].describe()"
   ]
  },
  {
   "cell_type": "code",
   "execution_count": 21,
   "metadata": {
    "scrolled": true
   },
   "outputs": [
    {
     "data": {
      "text/plain": [
       "(array([ 54.,  46., 177., 169., 118.,  70.,  45.,  24.,   9.,   2.]),\n",
       " array([ 0.42 ,  8.378, 16.336, 24.294, 32.252, 40.21 , 48.168, 56.126,\n",
       "        64.084, 72.042, 80.   ]),\n",
       " <a list of 10 Patch objects>)"
      ]
     },
     "execution_count": 21,
     "metadata": {},
     "output_type": "execute_result"
    },
    {
     "data": {
      "image/png": "[encoded data removed]",
      "text/plain": [
       "<Figure size 432x288 with 1 Axes>"
      ]
     },
     "metadata": {
      "needs_background": "light"
     },
     "output_type": "display_data"
    }
   ],
   "source": [
    "plt.hist(df_train['Age'])"
   ]
  },
  {
   "cell_type": "markdown",
   "metadata": {},
   "source": [
    "+ 欠損値を平均値と標準偏差で補完\n"
   ]
  },
  {
   "cell_type": "code",
   "execution_count": 22,
   "metadata": {},
   "outputs": [],
   "source": [
    "# train\n",
    "Age_mean = df_train['Age'].mean()\n",
    "Age_std = df_train['Age'].std()\n",
    "Age_nullcount = df_train['Age'].isnull().sum()\n",
    "\n",
    "# 正規分布従うとして、標準偏差の範囲内で数を生成\n",
    "rand = np.random.randint(Age_mean - Age_std, Age_mean + Age_std,  size= Age_nullcount)\n",
    "\n",
    "# Age欠損補完\n",
    "df_train[\"Age\"][np.isnan(df_train['Age'])] = rand"
   ]
  },
  {
   "cell_type": "code",
   "execution_count": 23,
   "metadata": {},
   "outputs": [],
   "source": [
    "# test\n",
    "Age_mean_test = df_test['Age'].mean()\n",
    "Age_std_test = df_test['Age'].std()\n",
    "Age_nullcount_test = df_test['Age'].isnull().sum()\n",
    "\n",
    "# 正規分布従うとして、標準偏差の範囲内で数を生成\n",
    "rand = np.random.randint(Age_mean_test - Age_std_test, Age_mean_test + Age_std_test,  size= Age_nullcount_test)\n",
    "\n",
    "# Age欠損補完\n",
    "df_test[\"Age\"][np.isnan(df_test['Age'])] = rand"
   ]
  },
  {
   "cell_type": "code",
   "execution_count": 24,
   "metadata": {},
   "outputs": [
    {
     "data": {
      "text/plain": [
       "count    891.000000\n",
       "mean      29.566970\n",
       "std       13.490787\n",
       "min        0.420000\n",
       "25%       21.000000\n",
       "50%       28.000000\n",
       "75%       37.000000\n",
       "max       80.000000\n",
       "Name: Age, dtype: float64"
      ]
     },
     "execution_count": 24,
     "metadata": {},
     "output_type": "execute_result"
    }
   ],
   "source": [
    "df_train['Age'].describe()"
   ]
  },
  {
   "cell_type": "code",
   "execution_count": 25,
   "metadata": {},
   "outputs": [
    {
     "data": {
      "text/plain": [
       "PassengerId      0\n",
       "Pclass           0\n",
       "Name             0\n",
       "Sex              0\n",
       "Age              0\n",
       "SibSp            0\n",
       "Parch            0\n",
       "Ticket           0\n",
       "Fare             1\n",
       "Cabin          327\n",
       "Embarked         0\n",
       "Honorifics       0\n",
       "dtype: int64"
      ]
     },
     "execution_count": 25,
     "metadata": {},
     "output_type": "execute_result"
    }
   ],
   "source": [
    "df_test.isnull().sum()"
   ]
  },
  {
   "cell_type": "markdown",
   "metadata": {},
   "source": [
    "---\n",
    "## Embarked"
   ]
  },
  {
   "cell_type": "code",
   "execution_count": 26,
   "metadata": {},
   "outputs": [
    {
     "data": {
      "text/html": [
       "<div>\n",
       "<style scoped>\n",
       "    .dataframe tbody tr th:only-of-type {\n",
       "        vertical-align: middle;\n",
       "    }\n",
       "\n",
       "    .dataframe tbody tr th {\n",
       "        vertical-align: top;\n",
       "    }\n",
       "\n",
       "    .dataframe thead th {\n",
       "        text-align: right;\n",
       "    }\n",
       "</style>\n",
       "<table border=\"1\" class=\"dataframe\">\n",
       "  <thead>\n",
       "    <tr style=\"text-align: right;\">\n",
       "      <th></th>\n",
       "      <th>PassengerId</th>\n",
       "      <th>Survived</th>\n",
       "      <th>Pclass</th>\n",
       "      <th>Name</th>\n",
       "      <th>Sex</th>\n",
       "      <th>Age</th>\n",
       "      <th>SibSp</th>\n",
       "      <th>Parch</th>\n",
       "      <th>Ticket</th>\n",
       "      <th>Fare</th>\n",
       "      <th>Cabin</th>\n",
       "      <th>Embarked</th>\n",
       "    </tr>\n",
       "  </thead>\n",
       "  <tbody>\n",
       "    <tr>\n",
       "      <th>61</th>\n",
       "      <td>62</td>\n",
       "      <td>1.0</td>\n",
       "      <td>1</td>\n",
       "      <td>Icard, Miss. Amelie</td>\n",
       "      <td>female</td>\n",
       "      <td>38.0</td>\n",
       "      <td>0</td>\n",
       "      <td>0</td>\n",
       "      <td>113572</td>\n",
       "      <td>80.0</td>\n",
       "      <td>B28</td>\n",
       "      <td>NaN</td>\n",
       "    </tr>\n",
       "    <tr>\n",
       "      <th>829</th>\n",
       "      <td>830</td>\n",
       "      <td>1.0</td>\n",
       "      <td>1</td>\n",
       "      <td>Stone, Mrs. George Nelson (Martha Evelyn)</td>\n",
       "      <td>female</td>\n",
       "      <td>62.0</td>\n",
       "      <td>0</td>\n",
       "      <td>0</td>\n",
       "      <td>113572</td>\n",
       "      <td>80.0</td>\n",
       "      <td>B28</td>\n",
       "      <td>NaN</td>\n",
       "    </tr>\n",
       "  </tbody>\n",
       "</table>\n",
       "</div>"
      ],
      "text/plain": [
       "     PassengerId  Survived  Pclass                                       Name  \\\n",
       "61            62       1.0       1                        Icard, Miss. Amelie   \n",
       "829          830       1.0       1  Stone, Mrs. George Nelson (Martha Evelyn)   \n",
       "\n",
       "        Sex   Age  SibSp  Parch  Ticket  Fare Cabin Embarked  \n",
       "61   female  38.0      0      0  113572  80.0   B28      NaN  \n",
       "829  female  62.0      0      0  113572  80.0   B28      NaN  "
      ]
     },
     "execution_count": 26,
     "metadata": {},
     "output_type": "execute_result"
    }
   ],
   "source": [
    "dataset[dataset['Embarked'].isnull()]"
   ]
  },
  {
   "cell_type": "code",
   "execution_count": 27,
   "metadata": {},
   "outputs": [
    {
     "name": "stdout",
     "output_type": "stream",
     "text": [
      "Cの中央値 78.2667\n",
      "Sの中央値 52.0\n",
      "Qの中央値 90.0\n"
     ]
    }
   ],
   "source": [
    "C = df_train[(df_train['Embarked'] == 'C') & (df_train['Pclass'] == 1)]['Fare'].median()\n",
    "print('Cの中央値', C)\n",
    "S = df_train[(df_train['Embarked'] == 'S') & (df_train['Pclass'] == 1)]['Fare'].median()\n",
    "print('Sの中央値', S)\n",
    "Q = df_train[(df_train['Embarked'] == 'Q') & (df_train['Pclass'] == 1)]['Fare'].median()\n",
    "print('Qの中央値', Q)"
   ]
  },
  {
   "cell_type": "markdown",
   "metadata": {},
   "source": [
    "+ C の料金が一番近いから、Cにする\n"
   ]
  },
  {
   "cell_type": "code",
   "execution_count": 28,
   "metadata": {},
   "outputs": [],
   "source": [
    "df_train['Embarked'] = df_train['Embarked'].fillna('C')\n",
    "df_test['Embarked'] = df_test['Embarked'].fillna('C')"
   ]
  },
  {
   "cell_type": "code",
   "execution_count": 29,
   "metadata": {},
   "outputs": [
    {
     "data": {
      "text/plain": [
       "PassengerId      0\n",
       "Survived         0\n",
       "Pclass           0\n",
       "Name             0\n",
       "Sex              0\n",
       "Age              0\n",
       "SibSp            0\n",
       "Parch            0\n",
       "Ticket           0\n",
       "Fare             0\n",
       "Cabin          687\n",
       "Embarked         0\n",
       "Honorifics       0\n",
       "dtype: int64"
      ]
     },
     "execution_count": 29,
     "metadata": {},
     "output_type": "execute_result"
    }
   ],
   "source": [
    "df_train.isnull().sum()"
   ]
  },
  {
   "cell_type": "markdown",
   "metadata": {},
   "source": [
    "---\n",
    "## Fare"
   ]
  },
  {
   "cell_type": "code",
   "execution_count": 30,
   "metadata": {},
   "outputs": [
    {
     "data": {
      "text/plain": [
       "count    891.000000\n",
       "mean      32.204208\n",
       "std       49.693429\n",
       "min        0.000000\n",
       "25%        7.910400\n",
       "50%       14.454200\n",
       "75%       31.000000\n",
       "max      512.329200\n",
       "Name: Fare, dtype: float64"
      ]
     },
     "execution_count": 30,
     "metadata": {},
     "output_type": "execute_result"
    }
   ],
   "source": [
    "df_train['Fare'].describe()"
   ]
  },
  {
   "cell_type": "code",
   "execution_count": 31,
   "metadata": {},
   "outputs": [
    {
     "data": {
      "text/html": [
       "<div>\n",
       "<style scoped>\n",
       "    .dataframe tbody tr th:only-of-type {\n",
       "        vertical-align: middle;\n",
       "    }\n",
       "\n",
       "    .dataframe tbody tr th {\n",
       "        vertical-align: top;\n",
       "    }\n",
       "\n",
       "    .dataframe thead th {\n",
       "        text-align: right;\n",
       "    }\n",
       "</style>\n",
       "<table border=\"1\" class=\"dataframe\">\n",
       "  <thead>\n",
       "    <tr style=\"text-align: right;\">\n",
       "      <th></th>\n",
       "      <th>PassengerId</th>\n",
       "      <th>Survived</th>\n",
       "      <th>Pclass</th>\n",
       "      <th>Name</th>\n",
       "      <th>Sex</th>\n",
       "      <th>Age</th>\n",
       "      <th>SibSp</th>\n",
       "      <th>Parch</th>\n",
       "      <th>Ticket</th>\n",
       "      <th>Fare</th>\n",
       "      <th>Cabin</th>\n",
       "      <th>Embarked</th>\n",
       "    </tr>\n",
       "  </thead>\n",
       "  <tbody>\n",
       "    <tr>\n",
       "      <th>1043</th>\n",
       "      <td>1044</td>\n",
       "      <td>NaN</td>\n",
       "      <td>3</td>\n",
       "      <td>Storey, Mr. Thomas</td>\n",
       "      <td>male</td>\n",
       "      <td>60.5</td>\n",
       "      <td>0</td>\n",
       "      <td>0</td>\n",
       "      <td>3701</td>\n",
       "      <td>NaN</td>\n",
       "      <td>NaN</td>\n",
       "      <td>S</td>\n",
       "    </tr>\n",
       "  </tbody>\n",
       "</table>\n",
       "</div>"
      ],
      "text/plain": [
       "      PassengerId  Survived  Pclass                Name   Sex   Age  SibSp  \\\n",
       "1043         1044       NaN       3  Storey, Mr. Thomas  male  60.5      0   \n",
       "\n",
       "      Parch Ticket  Fare Cabin Embarked  \n",
       "1043      0   3701   NaN   NaN        S  "
      ]
     },
     "execution_count": 31,
     "metadata": {},
     "output_type": "execute_result"
    }
   ],
   "source": [
    "dataset[dataset['Fare'].isnull()]"
   ]
  },
  {
   "cell_type": "markdown",
   "metadata": {},
   "source": [
    "欠損データは、\n",
    "+ Pclass (チケットクラス)が3(労働階級)\n",
    "+ Embarked (出港地)が 'S'\n",
    "+ 敬称がMr\n",
    "だからそれらの中央値を代入"
   ]
  },
  {
   "cell_type": "code",
   "execution_count": 32,
   "metadata": {},
   "outputs": [],
   "source": [
    "fare_median = df_test[(df_test['Embarked'] == \"S\") & (df_test['Pclass'] == 3) & (df_test['Honorifics'] == 'Mr')].Fare.median()"
   ]
  },
  {
   "cell_type": "code",
   "execution_count": 33,
   "metadata": {},
   "outputs": [],
   "source": [
    "df_test['Fare'] = df_test['Fare'].fillna(fare_median)"
   ]
  },
  {
   "cell_type": "markdown",
   "metadata": {},
   "source": [
    "---\n",
    "## 家族人数"
   ]
  },
  {
   "cell_type": "code",
   "execution_count": 34,
   "metadata": {
    "scrolled": true
   },
   "outputs": [
    {
     "data": {
      "text/plain": [
       "<matplotlib.axes._subplots.AxesSubplot at 0x7fdaf12ef110>"
      ]
     },
     "execution_count": 34,
     "metadata": {},
     "output_type": "execute_result"
    },
    {
     "data": {
      "image/png": "[encoded data removed]",
      "text/plain": [
       "<Figure size 432x288 with 1 Axes>"
      ]
     },
     "metadata": {
      "needs_background": "light"
     },
     "output_type": "display_data"
    }
   ],
   "source": [
    "# 同乗してる兄弟/配偶者の数による生存比較\n",
    "%matplotlib inline\n",
    "sns.barplot(x='SibSp', y='Survived', data=df_train, palette=\"Set3\")"
   ]
  },
  {
   "cell_type": "code",
   "execution_count": 35,
   "metadata": {},
   "outputs": [
    {
     "data": {
      "text/plain": [
       "<matplotlib.axes._subplots.AxesSubplot at 0x7fdaf1d0ac90>"
      ]
     },
     "execution_count": 35,
     "metadata": {},
     "output_type": "execute_result"
    },
    {
     "data": {
      "image/png": "[encoded data removed]",
      "text/plain": [
       "<Figure size 432x288 with 1 Axes>"
      ]
     },
     "metadata": {
      "needs_background": "light"
     },
     "output_type": "display_data"
    }
   ],
   "source": [
    "# 同乗してる親/子供の数による生存率比較\n",
    "sns.barplot(x='Parch', y='Survived', data=df_train, palette='Set3' )"
   ]
  },
  {
   "cell_type": "code",
   "execution_count": 36,
   "metadata": {
    "scrolled": true
   },
   "outputs": [
    {
     "data": {
      "text/plain": [
       "<matplotlib.axes._subplots.AxesSubplot at 0x7fdaf1e30f90>"
      ]
     },
     "execution_count": 36,
     "metadata": {},
     "output_type": "execute_result"
    },
    {
     "data": {
      "image/png": "[encoded data removed]",
      "text/plain": [
       "<Figure size 432x288 with 1 Axes>"
      ]
     },
     "metadata": {
      "needs_background": "light"
     },
     "output_type": "display_data"
    }
   ],
   "source": [
    "# 同乗している家族の数\n",
    "df_train['FamilySize'] = df_train['SibSp'] + df_train['Parch'] + 1\n",
    "df_test['FamilySize'] = df_test['SibSp'] + df_test['Parch'] + 1\n",
    "sns.barplot(x='FamilySize', y='Survived', data=df_train, palette='Set3')"
   ]
  },
  {
   "cell_type": "code",
   "execution_count": 37,
   "metadata": {},
   "outputs": [
    {
     "data": {
      "text/plain": [
       "<matplotlib.axes._subplots.AxesSubplot at 0x7fdaf1f31b90>"
      ]
     },
     "execution_count": 37,
     "metadata": {},
     "output_type": "execute_result"
    },
    {
     "data": {
      "image/png": "[encoded data removed]",
      "text/plain": [
       "<Figure size 432x288 with 1 Axes>"
      ]
     },
     "metadata": {
      "needs_background": "light"
     },
     "output_type": "display_data"
    }
   ],
   "source": [
    "# 家族数による生存率でグループ分け\n",
    "def Family_label(s):\n",
    "    if (s>=2) & (s<=4):\n",
    "        return 2\n",
    "    elif (s>4) & (s<=7) | (s==1):\n",
    "        return 1\n",
    "    elif (s>7):\n",
    "        return 0\n",
    "df_train['FamilyLabel'] = df_train['FamilySize'].apply(Family_label)\n",
    "df_test['FamilyLabel'] = df_test['FamilySize'].apply(Family_label)\n",
    "sns.barplot(x='FamilyLabel', y='Survived', data=df_train, palette='Set3')"
   ]
  },
  {
   "cell_type": "markdown",
   "metadata": {},
   "source": [
    "---\n",
    "## 苗字における生存率調整\n",
    "+ SibSpとParchでは、3等親以降の家族関係が不明だから、家族だけでなく苗字における生存率調査"
   ]
  },
  {
   "cell_type": "code",
   "execution_count": 38,
   "metadata": {},
   "outputs": [
    {
     "ename": "KeyError",
     "evalue": "'Column not found: Survived'",
     "output_type": "error",
     "traceback": [
      "\u001b[0;31m---------------------------------------------------------------------------\u001b[0m",
      "\u001b[0;31mKeyError\u001b[0m                                  Traceback (most recent call last)",
      "\u001b[0;32m<ipython-input-38-e7f2edd8dd46>\u001b[0m in \u001b[0;36m<module>\u001b[0;34m\u001b[0m\n\u001b[1;32m     20\u001b[0m \u001b[0;31m# 女・子供グループにおける苗字ごとの生存率平均の個数を比較\u001b[0m\u001b[0;34m\u001b[0m\u001b[0;34m\u001b[0m\u001b[0;34m\u001b[0m\u001b[0m\n\u001b[1;32m     21\u001b[0m \u001b[0mFemale_Child_mean\u001b[0m \u001b[0;34m=\u001b[0m \u001b[0mFemale_Child_Group\u001b[0m\u001b[0;34m.\u001b[0m\u001b[0mgroupby\u001b[0m\u001b[0;34m(\u001b[0m\u001b[0;34m'Surname'\u001b[0m\u001b[0;34m)\u001b[0m\u001b[0;34m[\u001b[0m\u001b[0;34m'Survived'\u001b[0m\u001b[0;34m]\u001b[0m\u001b[0;34m.\u001b[0m\u001b[0mmean\u001b[0m\u001b[0;34m(\u001b[0m\u001b[0;34m)\u001b[0m\u001b[0;34m\u001b[0m\u001b[0;34m\u001b[0m\u001b[0m\n\u001b[0;32m---> 22\u001b[0;31m \u001b[0mFemale_Child_mean_test\u001b[0m \u001b[0;34m=\u001b[0m \u001b[0mFemale_Child_Group_test\u001b[0m\u001b[0;34m.\u001b[0m\u001b[0mgroupby\u001b[0m\u001b[0;34m(\u001b[0m\u001b[0;34m'Surname'\u001b[0m\u001b[0;34m)\u001b[0m\u001b[0;34m[\u001b[0m\u001b[0;34m'Survived'\u001b[0m\u001b[0;34m]\u001b[0m\u001b[0;34m.\u001b[0m\u001b[0mmean\u001b[0m\u001b[0;34m(\u001b[0m\u001b[0;34m)\u001b[0m\u001b[0;34m\u001b[0m\u001b[0;34m\u001b[0m\u001b[0m\n\u001b[0m\u001b[1;32m     23\u001b[0m \u001b[0;34m\u001b[0m\u001b[0m\n\u001b[1;32m     24\u001b[0m \u001b[0mFemale_Child_mean_count\u001b[0m \u001b[0;34m=\u001b[0m \u001b[0mpd\u001b[0m\u001b[0;34m.\u001b[0m\u001b[0mDataFrame\u001b[0m\u001b[0;34m(\u001b[0m\u001b[0mFemale_Child_mean\u001b[0m\u001b[0;34m.\u001b[0m\u001b[0mvalue_counts\u001b[0m\u001b[0;34m(\u001b[0m\u001b[0;34m)\u001b[0m\u001b[0;34m)\u001b[0m\u001b[0;34m\u001b[0m\u001b[0;34m\u001b[0m\u001b[0m\n",
      "\u001b[0;32m~/opt/anaconda3/lib/python3.7/site-packages/pandas/core/groupby/generic.py\u001b[0m in \u001b[0;36m__getitem__\u001b[0;34m(self, key)\u001b[0m\n\u001b[1;32m   1611\u001b[0m                 \u001b[0mstacklevel\u001b[0m\u001b[0;34m=\u001b[0m\u001b[0;36m2\u001b[0m\u001b[0;34m,\u001b[0m\u001b[0;34m\u001b[0m\u001b[0;34m\u001b[0m\u001b[0m\n\u001b[1;32m   1612\u001b[0m             )\n\u001b[0;32m-> 1613\u001b[0;31m         \u001b[0;32mreturn\u001b[0m \u001b[0msuper\u001b[0m\u001b[0;34m(\u001b[0m\u001b[0;34m)\u001b[0m\u001b[0;34m.\u001b[0m\u001b[0m__getitem__\u001b[0m\u001b[0;34m(\u001b[0m\u001b[0mkey\u001b[0m\u001b[0;34m)\u001b[0m\u001b[0;34m\u001b[0m\u001b[0;34m\u001b[0m\u001b[0m\n\u001b[0m\u001b[1;32m   1614\u001b[0m \u001b[0;34m\u001b[0m\u001b[0m\n\u001b[1;32m   1615\u001b[0m     \u001b[0;32mdef\u001b[0m \u001b[0m_gotitem\u001b[0m\u001b[0;34m(\u001b[0m\u001b[0mself\u001b[0m\u001b[0;34m,\u001b[0m \u001b[0mkey\u001b[0m\u001b[0;34m,\u001b[0m \u001b[0mndim\u001b[0m\u001b[0;34m:\u001b[0m \u001b[0mint\u001b[0m\u001b[0;34m,\u001b[0m \u001b[0msubset\u001b[0m\u001b[0;34m=\u001b[0m\u001b[0;32mNone\u001b[0m\u001b[0;34m)\u001b[0m\u001b[0;34m:\u001b[0m\u001b[0;34m\u001b[0m\u001b[0;34m\u001b[0m\u001b[0m\n",
      "\u001b[0;32m~/opt/anaconda3/lib/python3.7/site-packages/pandas/core/base.py\u001b[0m in \u001b[0;36m__getitem__\u001b[0;34m(self, key)\u001b[0m\n\u001b[1;32m    237\u001b[0m         \u001b[0;32melse\u001b[0m\u001b[0;34m:\u001b[0m\u001b[0;34m\u001b[0m\u001b[0;34m\u001b[0m\u001b[0m\n\u001b[1;32m    238\u001b[0m             \u001b[0;32mif\u001b[0m \u001b[0mkey\u001b[0m \u001b[0;32mnot\u001b[0m \u001b[0;32min\u001b[0m \u001b[0mself\u001b[0m\u001b[0;34m.\u001b[0m\u001b[0mobj\u001b[0m\u001b[0;34m:\u001b[0m\u001b[0;34m\u001b[0m\u001b[0;34m\u001b[0m\u001b[0m\n\u001b[0;32m--> 239\u001b[0;31m                 \u001b[0;32mraise\u001b[0m \u001b[0mKeyError\u001b[0m\u001b[0;34m(\u001b[0m\u001b[0;34mf\"Column not found: {key}\"\u001b[0m\u001b[0;34m)\u001b[0m\u001b[0;34m\u001b[0m\u001b[0;34m\u001b[0m\u001b[0m\n\u001b[0m\u001b[1;32m    240\u001b[0m             \u001b[0;32mreturn\u001b[0m \u001b[0mself\u001b[0m\u001b[0;34m.\u001b[0m\u001b[0m_gotitem\u001b[0m\u001b[0;34m(\u001b[0m\u001b[0mkey\u001b[0m\u001b[0;34m,\u001b[0m \u001b[0mndim\u001b[0m\u001b[0;34m=\u001b[0m\u001b[0;36m1\u001b[0m\u001b[0;34m)\u001b[0m\u001b[0;34m\u001b[0m\u001b[0;34m\u001b[0m\u001b[0m\n\u001b[1;32m    241\u001b[0m \u001b[0;34m\u001b[0m\u001b[0m\n",
      "\u001b[0;31mKeyError\u001b[0m: 'Column not found: Survived'"
     ]
    }
   ],
   "source": [
    "# 苗字抽出\n",
    "df_train['Surname'] = df_train['Name'].apply(lambda x:x.split(',')[0].rstrip())\n",
    "df_test['Surname'] = df_test['Name'].apply(lambda x:x.split(',')[0].rstrip())\n",
    "\n",
    "# 苗字の個数カウント\n",
    "Surname_Count = dict(df_train['Surname'].value_counts())\n",
    "Surname_Count_test = dict(df_test['Surname'].value_counts())\n",
    "\n",
    "# 苗字の個数を代入\n",
    "df_train['Surname_Count'] = df_train['Surname'].apply(lambda x:Surname_Count[x])\n",
    "df_test['Surname_Count_test'] = df_test['Surname'].apply(lambda x:Surname_Count_test[x])\n",
    "\n",
    "# 苗字にダブりがある人を、女・子供のグループと、大人で男性のグループに分ける\n",
    "Female_Child_Group = df_train.loc[(df_train['Surname_Count']>=2) & ((df_train['Age']<=12) | (df_train['Sex'] == 'female'))]\n",
    "Male_Adult_Group = df_train.loc[(df_train['Surname_Count']>=2) & ((df_train['Age']>12) | (df_train['Sex'] == 'male'))]\n",
    "Female_Child_Group_test = df_test.loc[(df_test['Surname_Count_test']>=2) & ((df_test['Age']<=12) | (df_test['Sex'] == 'female'))]\n",
    "Male_Adult_Group_test = df_test.loc[(df_test['Surname_Count_test']>=2) & ((df_test['Age']>12) | (df_test['Sex'] == 'male'))]\n",
    "\n",
    "\n",
    "# 女・子供グループにおける苗字ごとの生存率平均の個数を比較\n",
    "Female_Child_mean = Female_Child_Group.groupby('Surname')['Survived'].mean()\n",
    "Female_Child_mean_test = Female_Child_Group_test.groupby('Surname')['Survived'].mean()\n",
    "\n",
    "Female_Child_mean_count = pd.DataFrame(Female_Child_mean.value_counts())\n",
    "Female_Child_mean_count.columns=['GroupCount']\n",
    "Female_Child_mean_count"
   ]
  },
  {
   "cell_type": "code",
   "execution_count": null,
   "metadata": {},
   "outputs": [],
   "source": [
    "# 男性グループにおける苗字ごとの生存率平均の個数を比較\n",
    "Male_Adult_mean = Male_Adult_Group.groupby('Surname')['Survived'].mean()\n",
    "Male_Adult_mean_test = Male_Adult_Group_test.groupby('Surname')['Survived'].mean()\n",
    "\n",
    "Male_Adult_mean_count = pd.DataFrame(Male_Adult_mean.value_counts())\n",
    "Male_Adult_mean_count.columns=['GroupCount']\n",
    "Male_Adult_mean_count"
   ]
  },
  {
   "cell_type": "code",
   "execution_count": null,
   "metadata": {},
   "outputs": [],
   "source": [
    "# 各グループの例外を処理する\n",
    "# 女性・子どもグループは、生存する確率の方が高いから生存していないグループを例外にする\n",
    "# 男性グループは、生存していない確率の方が高いから生存しているグループを例外にする\n",
    "Dead_List = set(Female_Child_mean_test[Female_Child_mean_test.apply(lambda x:x==0)].index)\n",
    "Survived_List = set(Male_Adult_mean_test[Male_Adult_mean_test.apply(lambda x:x==1)].index)"
   ]
  },
  {
   "cell_type": "code",
   "execution_count": null,
   "metadata": {},
   "outputs": [],
   "source": [
    "df_test.loc[(df_test['Surname'].apply(lambda x:x in Dead_List)),'Sex'] = 'male'\n",
    "df_test.loc[(df_test['Surname'].apply(lambda x:x in Dead_List)),'Age'] = 60\n",
    "df_test.loc[(df_test['Surname'].apply(lambda x:x in Dead_List)),'Honorifics'] = 'Mr'\n",
    "df_test.loc[(df_test['Surname'].apply(lambda x:x in Survived_List)),'Sex'] = 'female'\n",
    "df_test.loc[(df_test['Surname'].apply(lambda x:x in Survived_List)),'Age'] = 5\n",
    "df_test.loc[(df_test['Surname'].apply(lambda x:x in Survived_List)),'Honorifics'] = 'Miss'"
   ]
  },
  {
   "cell_type": "markdown",
   "metadata": {},
   "source": [
    "----\n",
    "## 必要な項目の選択\n",
    "\n",
    "今回はID,cabin以外　"
   ]
  },
  {
   "cell_type": "code",
   "execution_count": 39,
   "metadata": {},
   "outputs": [],
   "source": [
    "df_train_columns = df_train[['Survived','Pclass','Sex','Age','Fare','Embarked','Honorifics','FamilyLabel']]\n",
    "df_test_columns = df_test[['Pclass','Sex','Age','Fare','Embarked','Honorifics','FamilyLabel']]\n",
    "# 'Honorifics','FamilyLabel'"
   ]
  },
  {
   "cell_type": "code",
   "execution_count": 40,
   "metadata": {},
   "outputs": [
    {
     "data": {
      "text/plain": [
       "Index(['PassengerId', 'Survived', 'Pclass', 'Name', 'Sex', 'Age', 'SibSp',\n",
       "       'Parch', 'Ticket', 'Fare', 'Cabin', 'Embarked', 'Honorifics',\n",
       "       'FamilySize', 'FamilyLabel', 'Surname', 'Surname_Count'],\n",
       "      dtype='object')"
      ]
     },
     "execution_count": 40,
     "metadata": {},
     "output_type": "execute_result"
    }
   ],
   "source": [
    "df_train.columns"
   ]
  },
  {
   "cell_type": "markdown",
   "metadata": {},
   "source": [
    "---\n",
    "> カテゴリ変数をダミー変数にする"
   ]
  },
  {
   "cell_type": "code",
   "execution_count": 41,
   "metadata": {},
   "outputs": [],
   "source": [
    "#df_train['Sex'] = pd.get_dummies(df_train['Sex'])\n",
    "#df_train['Embarked'] = pd.get_dummies(df_train, columns=['Embarked'], prefix='Embarked',drop_first=True)\n",
    "#df_test['Sex'] = pd.get_dummies(df_test['Sex'])\n",
    "#df_test['Embarked'] = pd.get_dummies(df_test, columns=['Embarked'],drop_first=True)\n",
    "# drop_first : n-1列表示。多重共線性を防ぐ\n",
    "df_train = pd.get_dummies(df_train_columns, columns=['Sex', 'Embarked', 'Honorifics'] ,drop_first=True)\n",
    "df_test= pd.get_dummies(df_test_columns, columns=['Sex', 'Embarked', 'Honorifics'] ,drop_first=True)"
   ]
  },
  {
   "cell_type": "markdown",
   "metadata": {},
   "source": [
    "---\n",
    "# データ分割して、グリッドサーチ"
   ]
  },
  {
   "cell_type": "code",
   "execution_count": 13,
   "metadata": {},
   "outputs": [
    {
     "data": {
      "text/html": [
       "<div>\n",
       "<style scoped>\n",
       "    .dataframe tbody tr th:only-of-type {\n",
       "        vertical-align: middle;\n",
       "    }\n",
       "\n",
       "    .dataframe tbody tr th {\n",
       "        vertical-align: top;\n",
       "    }\n",
       "\n",
       "    .dataframe thead th {\n",
       "        text-align: right;\n",
       "    }\n",
       "</style>\n",
       "<table border=\"1\" class=\"dataframe\">\n",
       "  <thead>\n",
       "    <tr style=\"text-align: right;\">\n",
       "      <th></th>\n",
       "      <th>Survived</th>\n",
       "      <th>Pclass</th>\n",
       "      <th>Name</th>\n",
       "      <th>Sex</th>\n",
       "      <th>Age</th>\n",
       "      <th>SibSp</th>\n",
       "      <th>Parch</th>\n",
       "      <th>Ticket</th>\n",
       "      <th>Fare</th>\n",
       "      <th>Cabin</th>\n",
       "      <th>Embarked</th>\n",
       "    </tr>\n",
       "  </thead>\n",
       "  <tbody>\n",
       "    <tr>\n",
       "      <th>0</th>\n",
       "      <td>0</td>\n",
       "      <td>3</td>\n",
       "      <td>Braund, Mr. Owen Harris</td>\n",
       "      <td>male</td>\n",
       "      <td>22.0</td>\n",
       "      <td>1</td>\n",
       "      <td>0</td>\n",
       "      <td>A/5 21171</td>\n",
       "      <td>7.2500</td>\n",
       "      <td>NaN</td>\n",
       "      <td>S</td>\n",
       "    </tr>\n",
       "    <tr>\n",
       "      <th>1</th>\n",
       "      <td>1</td>\n",
       "      <td>1</td>\n",
       "      <td>Cumings, Mrs. John Bradley (Florence Briggs Th...</td>\n",
       "      <td>female</td>\n",
       "      <td>38.0</td>\n",
       "      <td>1</td>\n",
       "      <td>0</td>\n",
       "      <td>PC 17599</td>\n",
       "      <td>71.2833</td>\n",
       "      <td>C85</td>\n",
       "      <td>C</td>\n",
       "    </tr>\n",
       "    <tr>\n",
       "      <th>2</th>\n",
       "      <td>1</td>\n",
       "      <td>3</td>\n",
       "      <td>Heikkinen, Miss. Laina</td>\n",
       "      <td>female</td>\n",
       "      <td>26.0</td>\n",
       "      <td>0</td>\n",
       "      <td>0</td>\n",
       "      <td>STON/O2. 3101282</td>\n",
       "      <td>7.9250</td>\n",
       "      <td>NaN</td>\n",
       "      <td>S</td>\n",
       "    </tr>\n",
       "    <tr>\n",
       "      <th>3</th>\n",
       "      <td>1</td>\n",
       "      <td>1</td>\n",
       "      <td>Futrelle, Mrs. Jacques Heath (Lily May Peel)</td>\n",
       "      <td>female</td>\n",
       "      <td>35.0</td>\n",
       "      <td>1</td>\n",
       "      <td>0</td>\n",
       "      <td>113803</td>\n",
       "      <td>53.1000</td>\n",
       "      <td>C123</td>\n",
       "      <td>S</td>\n",
       "    </tr>\n",
       "    <tr>\n",
       "      <th>4</th>\n",
       "      <td>0</td>\n",
       "      <td>3</td>\n",
       "      <td>Allen, Mr. William Henry</td>\n",
       "      <td>male</td>\n",
       "      <td>35.0</td>\n",
       "      <td>0</td>\n",
       "      <td>0</td>\n",
       "      <td>373450</td>\n",
       "      <td>8.0500</td>\n",
       "      <td>NaN</td>\n",
       "      <td>S</td>\n",
       "    </tr>\n",
       "  </tbody>\n",
       "</table>\n",
       "</div>"
      ],
      "text/plain": [
       "   Survived  Pclass                                               Name  \\\n",
       "0         0       3                            Braund, Mr. Owen Harris   \n",
       "1         1       1  Cumings, Mrs. John Bradley (Florence Briggs Th...   \n",
       "2         1       3                             Heikkinen, Miss. Laina   \n",
       "3         1       1       Futrelle, Mrs. Jacques Heath (Lily May Peel)   \n",
       "4         0       3                           Allen, Mr. William Henry   \n",
       "\n",
       "      Sex   Age  SibSp  Parch            Ticket     Fare Cabin Embarked  \n",
       "0    male  22.0      1      0         A/5 21171   7.2500   NaN        S  \n",
       "1  female  38.0      1      0          PC 17599  71.2833   C85        C  \n",
       "2  female  26.0      0      0  STON/O2. 3101282   7.9250   NaN        S  \n",
       "3  female  35.0      1      0            113803  53.1000  C123        S  \n",
       "4    male  35.0      0      0            373450   8.0500   NaN        S  "
      ]
     },
     "execution_count": 13,
     "metadata": {},
     "output_type": "execute_result"
    }
   ],
   "source": [
    "X_train.head()"
   ]
  },
  {
   "cell_type": "code",
   "execution_count": 8,
   "metadata": {},
   "outputs": [],
   "source": [
    "# 訓練・テストデータを分割\n",
    "X_train = df_train.iloc[:, 1:]\n",
    "y_train = df_train.iloc[:, 0]\n",
    "X_test = df_test\n",
    "y_test = y_test\n",
    "\n",
    "# MinMaxScaler\n",
    "from sklearn.preprocessing import MinMaxScaler\n",
    "\n",
    "#scaler = MinMaxScaler()\n",
    "#scaler.fit(X_train)\n",
    "\n",
    "# グリッドサーチで、各分類器にスケール変換するからいらない\n",
    "#X_train_scaled = scaler.transform(X_train)\n",
    "#X_test_scaled = scaler.transform(X_test)\n",
    "#columns = X_train.columns.values\n",
    "#columns = X_test.columns.values\n",
    "#X_train_scaled = pd.DataFrame(X_train_scaled,columns=columns)\n",
    "#X_test_scaled = pd.DataFrame(X_test_scaled, columns=columns)"
   ]
  },
  {
   "cell_type": "markdown",
   "metadata": {},
   "source": [
    "---\n",
    "> グリッドサーチによるモデルの選択 (ランダムフォレスト、SVC、ロジスティック回帰)"
   ]
  },
  {
   "cell_type": "code",
   "execution_count": 44,
   "metadata": {},
   "outputs": [
    {
     "name": "stdout",
     "output_type": "stream",
     "text": [
      "GridSearchCV(cv=10, error_score=nan,\n",
      "             estimator=Pipeline(memory=None,\n",
      "                                steps=[('preprocessing',\n",
      "                                        MinMaxScaler(copy=True,\n",
      "                                                     feature_range=(0, 1))),\n",
      "                                       ('classifier',\n",
      "                                        SVC(C=1.0, break_ties=False,\n",
      "                                            cache_size=200, class_weight=None,\n",
      "                                            coef0=0.0,\n",
      "                                            decision_function_shape='ovr',\n",
      "                                            degree=3, gamma='scale',\n",
      "                                            kernel='rbf', max_iter=-1,\n",
      "                                            probability=False,\n",
      "                                            random_state=None, shrinking=True,\n",
      "                                            to...\n",
      "                                                            multi_class='auto',\n",
      "                                                            n_jobs=None,\n",
      "                                                            penalty='l2',\n",
      "                                                            random_state=None,\n",
      "                                                            solver='lbfgs',\n",
      "                                                            tol=0.0001,\n",
      "                                                            verbose=0,\n",
      "                                                            warm_start=False)],\n",
      "                          'classifier__C': [0.001, 0.01, 0.1, 1, 10, 100],\n",
      "                          'preprocessing': [MinMaxScaler(copy=True,\n",
      "                                                         feature_range=(0, 1)),\n",
      "                                            StandardScaler(copy=True,\n",
      "                                                           with_mean=True,\n",
      "                                                           with_std=True)]}],\n",
      "             pre_dispatch='2*n_jobs', refit=True, return_train_score=False,\n",
      "             scoring=None, verbose=0)\n",
      "訓練データスコア　：　0.852017937219731\n"
     ]
    }
   ],
   "source": [
    "from sklearn.ensemble import RandomForestClassifier\n",
    "from sklearn.model_selection import KFold\n",
    "from sklearn.model_selection import cross_val_score\n",
    "from sklearn.linear_model import LogisticRegression\n",
    "from sklearn.svm import SVC\n",
    "from sklearn.preprocessing import MinMaxScaler\n",
    "from sklearn.preprocessing import StandardScaler\n",
    "from sklearn.pipeline  import Pipeline\n",
    "from sklearn.model_selection import GridSearchCV\n",
    "from sklearn.model_selection import train_test_split\n",
    "\n",
    "# ランダムフォレストとSVCとロジスティック回帰\n",
    "pipe = Pipeline([('preprocessing', MinMaxScaler()), ('classifier', SVC())])\n",
    "\n",
    "param_grid = [\n",
    "    {'classifier' : [SVC()], 'preprocessing' : [MinMaxScaler(), StandardScaler()]\n",
    "    ,'classifier__gamma' : [0.001, 0.01, 0.1, 1, 10, 100]\n",
    "    ,'classifier__C' : [0.001, 0.01, 0.1, 1, 10, 100]},\n",
    "    {'classifier' : [RandomForestClassifier(n_estimators=100)]\n",
    "    ,'preprocessing' : [None], 'classifier__max_features' : [1, 2, 3]},\n",
    "    {'classifier' : [LogisticRegression()], 'preprocessing' : [MinMaxScaler(), StandardScaler()]\n",
    "    ,'classifier__C' : [0.001, 0.01, 0.1, 1, 10, 100]}\n",
    "]\n",
    "\n",
    "X_train_train, X_train_test, y_train_train, y_train_test \\\n",
    "    = train_test_split(X_train, y_train, random_state=0)\n",
    "\n",
    "grid = GridSearchCV(pipe, param_grid, cv=10)\n",
    "grid.fit(X_train_train, y_train_train)\n",
    "grid.fit(X_train, y_train)\n",
    "print(grid.fit(X_train, y_train))\n",
    "print('訓練データスコア　：　{}'.format(grid.score(X_train_test, y_train_test)))"
   ]
  },
  {
   "cell_type": "code",
   "execution_count": 45,
   "metadata": {
    "scrolled": true
   },
   "outputs": [
    {
     "name": "stdout",
     "output_type": "stream",
     "text": [
      "ベストパラメータ : \n",
      "{'classifier': SVC(C=100, break_ties=False, cache_size=200, class_weight=None, coef0=0.0,\n",
      "    decision_function_shape='ovr', degree=3, gamma=0.1, kernel='rbf',\n",
      "    max_iter=-1, probability=False, random_state=None, shrinking=True,\n",
      "    tol=0.001, verbose=False), 'classifier__C': 100, 'classifier__gamma': 0.1, 'preprocessing': MinMaxScaler(copy=True, feature_range=(0, 1))}\n",
      "\n",
      "交差検証スコア : 0.8182771535580524\n",
      "テストスコア : 0.852017937219731\n"
     ]
    }
   ],
   "source": [
    "print('ベストパラメータ : \\n{}\\n'.format(grid.best_params_))\n",
    "print('交差検証スコア : {}'.format(grid.best_score_))\n",
    "print('テストスコア : {}'.format(grid.score(X_train_test, y_train_test)))"
   ]
  },
  {
   "cell_type": "markdown",
   "metadata": {},
   "source": [
    "\n",
    "\n",
    "+ SVCモデルのCとgammaの関係を見る"
   ]
  },
  {
   "cell_type": "code",
   "execution_count": 46,
   "metadata": {},
   "outputs": [
    {
     "data": {
      "text/plain": [
       "<matplotlib.legend.Legend at 0x7fdaf0e67c10>"
      ]
     },
     "execution_count": 46,
     "metadata": {},
     "output_type": "execute_result"
    },
    {
     "data": {
      "image/png": "[encoded data removed]",
      "text/plain": [
       "<Figure size 432x288 with 1 Axes>"
      ]
     },
     "metadata": {
      "needs_background": "light"
     },
     "output_type": "display_data"
    }
   ],
   "source": [
    "gamma_training_accuracy = []\n",
    "gamma_test_accuracy = []\n",
    "\n",
    "gamma_para = np.linspace(0.001, 0.02, 100)\n",
    "scaler = StandardScaler()\n",
    "scaler.fit(X_train_train)\n",
    "x_scaler_train = scaler.transform(X_train_train)\n",
    "x_scaler_test = scaler.transform(X_train_test)\n",
    "\n",
    "for gamma in gamma_para:\n",
    "    clf = SVC(C=100, gamma=gamma)\n",
    "    clf.fit(x_scaler_train, y_train_train)\n",
    "    # 訓練セット精度\n",
    "    gamma_training_accuracy.append(clf.score(x_scaler_train, y_train_train))\n",
    "    # テストセット精度\n",
    "    gamma_test_accuracy.append(clf.score(x_scaler_test, y_train_test))\n",
    "\n",
    "plt.plot(gamma_para, gamma_training_accuracy, label='train_score')\n",
    "plt.plot(gamma_para, gamma_test_accuracy, label='test_score')\n",
    "plt.legend()"
   ]
  },
  {
   "cell_type": "code",
   "execution_count": 47,
   "metadata": {},
   "outputs": [
    {
     "data": {
      "text/plain": [
       "<matplotlib.legend.Legend at 0x7fdaf0edda10>"
      ]
     },
     "execution_count": 47,
     "metadata": {},
     "output_type": "execute_result"
    },
    {
     "data": {
      "image/png": "[encoded data removed]",
      "text/plain": [
       "<Figure size 432x288 with 1 Axes>"
      ]
     },
     "metadata": {
      "needs_background": "light"
     },
     "output_type": "display_data"
    }
   ],
   "source": [
    "C_training_accuracy = []\n",
    "C_test_accuracy = []\n",
    "C_para = np.linspace(10, 200, 100)\n",
    "\n",
    "for C in C_para:\n",
    "    clf = SVC(C=C, gamma=0.01)\n",
    "    clf.fit(x_scaler_train, y_train_train)\n",
    "    # 訓練セット精度\n",
    "    C_training_accuracy.append(clf.score(x_scaler_train, y_train_train))\n",
    "    # テストセット精度\n",
    "    C_test_accuracy.append(clf.score(x_scaler_test, y_train_test))\n",
    "plt.plot(C_para, C_training_accuracy, label='train_score')\n",
    "plt.plot(C_para, C_test_accuracy, label='test_score')\n",
    "plt.legend()\n"
   ]
  },
  {
   "cell_type": "markdown",
   "metadata": {},
   "source": [
    "---\n",
    ">  上の結果のCとgammaを考慮して、再度SVCで操作"
   ]
  },
  {
   "cell_type": "code",
   "execution_count": 48,
   "metadata": {},
   "outputs": [
    {
     "name": "stdout",
     "output_type": "stream",
     "text": [
      "GridSearchCV(cv=10, error_score=nan,\n",
      "             estimator=Pipeline(memory=None,\n",
      "                                steps=[('preprocessing',\n",
      "                                        StandardScaler(copy=True,\n",
      "                                                       with_mean=True,\n",
      "                                                       with_std=True)),\n",
      "                                       ('classifier',\n",
      "                                        SVC(C=1.0, break_ties=False,\n",
      "                                            cache_size=200, class_weight=None,\n",
      "                                            coef0=0.0,\n",
      "                                            decision_function_shape='ovr',\n",
      "                                            degree=3, gamma='scale',\n",
      "                                            kernel='rbf', max_iter=-1,\n",
      "                                            probability=False,\n",
      "                                            random_state=None, shrinking=True,\n",
      "                                            tol=0.001, verbose=False))],\n",
      "                                verbose=False),\n",
      "             iid='deprecated', n_jobs=None,\n",
      "             param_grid={'classifier__C': [100, 120, 125, 130, 145, 150],\n",
      "                         'classifier__gamma': [0.01, 0.012, 0.0128, 0.013,\n",
      "                                               0.0145]},\n",
      "             pre_dispatch='2*n_jobs', refit=True, return_train_score=False,\n",
      "             scoring=None, verbose=0)\n",
      "ベストパラメータ : \n",
      "{'classifier__C': 100, 'classifier__gamma': 0.013}\n",
      "\n",
      "交差検証スコア : 0.8294210764360018\n",
      "テストスコア : 0.8340807174887892\n"
     ]
    }
   ],
   "source": [
    "from sklearn.pipeline import make_pipeline\n",
    "\n",
    "pipe = Pipeline([('preprocessing', StandardScaler()), ('classifier', SVC())])\n",
    "\n",
    "param_grid_after = {'classifier__C' : [100, 120, 125, 130, 145, 150]\n",
    "                         ,'classifier__gamma' : [0.01, 0.012, 0.0128, 0.0130, 0.0145]}\n",
    "\n",
    "grid_svc = GridSearchCV(pipe, param_grid_after, cv=10)\n",
    "print(grid_svc.fit(X_train_train, y_train_train))\n",
    "print('ベストパラメータ : \\n{}\\n'.format(grid_svc.best_params_))\n",
    "print('交差検証スコア : {}'.format(grid_svc.best_score_))\n",
    "print('テストスコア : {}'.format(grid_svc.score(X_train_test, y_train_test)))"
   ]
  },
  {
   "cell_type": "markdown",
   "metadata": {},
   "source": [
    "+ ロジスティック回帰単体で見てみる\n"
   ]
  },
  {
   "cell_type": "code",
   "execution_count": 49,
   "metadata": {},
   "outputs": [
    {
     "name": "stdout",
     "output_type": "stream",
     "text": [
      "GridSearchCV(cv=10, error_score=nan,\n",
      "             estimator=Pipeline(memory=None,\n",
      "                                steps=[('minmaxscaler',\n",
      "                                        MinMaxScaler(copy=True,\n",
      "                                                     feature_range=(0, 1))),\n",
      "                                       ('logisticregression',\n",
      "                                        LogisticRegression(C=1.0,\n",
      "                                                           class_weight=None,\n",
      "                                                           dual=False,\n",
      "                                                           fit_intercept=True,\n",
      "                                                           intercept_scaling=1,\n",
      "                                                           l1_ratio=None,\n",
      "                                                           max_iter=100,\n",
      "                                                           multi_class='auto',\n",
      "                                                           n_jobs=None,\n",
      "                                                           penalty='l2',\n",
      "                                                           random_state=None,\n",
      "                                                           solver='lbfgs',\n",
      "                                                           tol=0.0001,\n",
      "                                                           verbose=0,\n",
      "                                                           warm_start=False))],\n",
      "                                verbose=False),\n",
      "             iid='deprecated', n_jobs=None,\n",
      "             param_grid={'logisticregression__C': [0.01, 0.1, 1, 10, 100],\n",
      "                         'minmaxscaler': [MinMaxScaler(copy=True,\n",
      "                                                       feature_range=(0, 1))]},\n",
      "             pre_dispatch='2*n_jobs', refit=True, return_train_score=False,\n",
      "             scoring=None, verbose=0)\n",
      "訓練データスコア　：　0.7937219730941704\n"
     ]
    }
   ],
   "source": [
    "pipe = make_pipeline(MinMaxScaler(), LogisticRegression())\n",
    "\n",
    "param_grid_rogreg = {'logisticregression__C' : [0.01, 0.1, 1, 10, 100]\n",
    "                         ,'minmaxscaler' : [MinMaxScaler()]}\n",
    "\n",
    "grid_rogreg = GridSearchCV(pipe, param_grid_rogreg, cv=10)\n",
    "print(grid_rogreg.fit(X_train_train, y_train_train))\n",
    "print('訓練データスコア　：　{}'.format(grid_rogreg.score(X_train_test, y_train_test)))"
   ]
  },
  {
   "cell_type": "markdown",
   "metadata": {},
   "source": [
    "---\n",
    "> 予測する ( SVC() )"
   ]
  },
  {
   "cell_type": "code",
   "execution_count": 50,
   "metadata": {},
   "outputs": [
    {
     "data": {
      "text/plain": [
       "0.852017937219731"
      ]
     },
     "execution_count": 50,
     "metadata": {},
     "output_type": "execute_result"
    }
   ],
   "source": [
    "from sklearn import metrics\n",
    "pred_train = grid.predict(X_train_test)\n",
    "metrics.accuracy_score(y_train_test, pred_train)"
   ]
  },
  {
   "cell_type": "markdown",
   "metadata": {},
   "source": [
    "---\n",
    "> 評価する"
   ]
  },
  {
   "cell_type": "code",
   "execution_count": 51,
   "metadata": {},
   "outputs": [
    {
     "data": {
      "text/html": [
       "<div>\n",
       "<style scoped>\n",
       "    .dataframe tbody tr th:only-of-type {\n",
       "        vertical-align: middle;\n",
       "    }\n",
       "\n",
       "    .dataframe tbody tr th {\n",
       "        vertical-align: top;\n",
       "    }\n",
       "\n",
       "    .dataframe thead th {\n",
       "        text-align: right;\n",
       "    }\n",
       "</style>\n",
       "<table border=\"1\" class=\"dataframe\">\n",
       "  <thead>\n",
       "    <tr style=\"text-align: right;\">\n",
       "      <th></th>\n",
       "      <th>Pclass</th>\n",
       "      <th>Age</th>\n",
       "      <th>Fare</th>\n",
       "      <th>FamilyLabel</th>\n",
       "      <th>Sex_male</th>\n",
       "      <th>Embarked_Q</th>\n",
       "      <th>Embarked_S</th>\n",
       "      <th>Honorifics_Mr</th>\n",
       "      <th>Honorifics_Mrs</th>\n",
       "      <th>Honorifics_Officer</th>\n",
       "      <th>Honorifics_Royalty</th>\n",
       "    </tr>\n",
       "  </thead>\n",
       "  <tbody>\n",
       "    <tr>\n",
       "      <th>0</th>\n",
       "      <td>3</td>\n",
       "      <td>34.5</td>\n",
       "      <td>7.8292</td>\n",
       "      <td>1</td>\n",
       "      <td>1</td>\n",
       "      <td>1</td>\n",
       "      <td>0</td>\n",
       "      <td>1</td>\n",
       "      <td>0</td>\n",
       "      <td>0</td>\n",
       "      <td>0</td>\n",
       "    </tr>\n",
       "    <tr>\n",
       "      <th>1</th>\n",
       "      <td>3</td>\n",
       "      <td>47.0</td>\n",
       "      <td>7.0000</td>\n",
       "      <td>2</td>\n",
       "      <td>0</td>\n",
       "      <td>0</td>\n",
       "      <td>1</td>\n",
       "      <td>0</td>\n",
       "      <td>1</td>\n",
       "      <td>0</td>\n",
       "      <td>0</td>\n",
       "    </tr>\n",
       "    <tr>\n",
       "      <th>2</th>\n",
       "      <td>2</td>\n",
       "      <td>62.0</td>\n",
       "      <td>9.6875</td>\n",
       "      <td>1</td>\n",
       "      <td>1</td>\n",
       "      <td>1</td>\n",
       "      <td>0</td>\n",
       "      <td>1</td>\n",
       "      <td>0</td>\n",
       "      <td>0</td>\n",
       "      <td>0</td>\n",
       "    </tr>\n",
       "    <tr>\n",
       "      <th>3</th>\n",
       "      <td>3</td>\n",
       "      <td>27.0</td>\n",
       "      <td>8.6625</td>\n",
       "      <td>1</td>\n",
       "      <td>1</td>\n",
       "      <td>0</td>\n",
       "      <td>1</td>\n",
       "      <td>1</td>\n",
       "      <td>0</td>\n",
       "      <td>0</td>\n",
       "      <td>0</td>\n",
       "    </tr>\n",
       "    <tr>\n",
       "      <th>4</th>\n",
       "      <td>3</td>\n",
       "      <td>22.0</td>\n",
       "      <td>12.2875</td>\n",
       "      <td>2</td>\n",
       "      <td>0</td>\n",
       "      <td>0</td>\n",
       "      <td>1</td>\n",
       "      <td>0</td>\n",
       "      <td>1</td>\n",
       "      <td>0</td>\n",
       "      <td>0</td>\n",
       "    </tr>\n",
       "  </tbody>\n",
       "</table>\n",
       "</div>"
      ],
      "text/plain": [
       "   Pclass   Age     Fare  FamilyLabel  Sex_male  Embarked_Q  Embarked_S  \\\n",
       "0       3  34.5   7.8292            1         1           1           0   \n",
       "1       3  47.0   7.0000            2         0           0           1   \n",
       "2       2  62.0   9.6875            1         1           1           0   \n",
       "3       3  27.0   8.6625            1         1           0           1   \n",
       "4       3  22.0  12.2875            2         0           0           1   \n",
       "\n",
       "   Honorifics_Mr  Honorifics_Mrs  Honorifics_Officer  Honorifics_Royalty  \n",
       "0              1               0                   0                   0  \n",
       "1              0               1                   0                   0  \n",
       "2              1               0                   0                   0  \n",
       "3              1               0                   0                   0  \n",
       "4              0               1                   0                   0  "
      ]
     },
     "execution_count": 51,
     "metadata": {},
     "output_type": "execute_result"
    }
   ],
   "source": [
    "df_test.head()"
   ]
  },
  {
   "cell_type": "code",
   "execution_count": 57,
   "metadata": {},
   "outputs": [],
   "source": [
    "pred_test = grid.predict(X_test)\n",
    "my_prediction = pd.DataFrame({\n",
    "                                                            'PassengerId':test['PassengerId'],\n",
    "                                                            'Survived':pred_test\n",
    "                                                        })\n",
    "my_prediction.to_csv('my_gender_submission_4.csv', index=False)"
   ]
  },
  {
   "cell_type": "markdown",
   "metadata": {},
   "source": [
    "---\n",
    "> 説明変数の係数評価"
   ]
  },
  {
   "cell_type": "code",
   "execution_count": 53,
   "metadata": {},
   "outputs": [
    {
     "name": "stdout",
     "output_type": "stream",
     "text": [
      "Optimization terminated successfully.\n",
      "         Current function value: 0.443017\n",
      "         Iterations 7\n",
      "                           Logit Regression Results                           \n",
      "==============================================================================\n",
      "Dep. Variable:               Survived   No. Observations:                  668\n",
      "Model:                          Logit   Df Residuals:                      658\n",
      "Method:                           MLE   Df Model:                            9\n",
      "Date:                Thu, 17 Sep 2020   Pseudo R-squ.:                  0.3351\n",
      "Time:                        21:39:34   Log-Likelihood:                -295.94\n",
      "converged:                       True   LL-Null:                       -445.11\n",
      "Covariance Type:            nonrobust   LLR p-value:                 5.845e-59\n",
      "======================================================================================\n",
      "                         coef    std err          z      P>|z|      [0.025      0.975]\n",
      "--------------------------------------------------------------------------------------\n",
      "Pclass                -0.5345      0.113     -4.723      0.000      -0.756      -0.313\n",
      "Age                    0.0120      0.008      1.543      0.123      -0.003       0.027\n",
      "Fare                   0.0049      0.002      2.128      0.033       0.000       0.009\n",
      "FamilyLabel            1.0299      0.180      5.713      0.000       0.677       1.383\n",
      "Sex_male              -1.2971        nan        nan        nan         nan         nan\n",
      "Embarked_Q             0.5361      0.431      1.244      0.214      -0.309       1.381\n",
      "Embarked_S             0.0523      0.266      0.197      0.844      -0.469       0.573\n",
      "Honorifics_Mr         -1.1333        nan        nan        nan         nan         nan\n",
      "Honorifics_Mrs         0.1646      0.368      0.448      0.654      -0.556       0.885\n",
      "Honorifics_Officer    -1.5771        nan        nan        nan         nan         nan\n",
      "Honorifics_Royalty     1.4133        nan        nan        nan         nan         nan\n",
      "======================================================================================\n"
     ]
    }
   ],
   "source": [
    "import statsmodels.api as sm\n",
    "\n",
    "logit_model = sm.Logit(y_train_train, X_train_train)\n",
    "logit_result = logit_model.fit()\n",
    "print(logit_result.summary())"
   ]
  },
  {
   "cell_type": "markdown",
   "metadata": {},
   "source": [
    "-------------------\n",
    "---\n",
    "> ランダムフォレスト"
   ]
  },
  {
   "cell_type": "code",
   "execution_count": 54,
   "metadata": {},
   "outputs": [
    {
     "data": {
      "text/html": [
       "<div>\n",
       "<style scoped>\n",
       "    .dataframe tbody tr th:only-of-type {\n",
       "        vertical-align: middle;\n",
       "    }\n",
       "\n",
       "    .dataframe tbody tr th {\n",
       "        vertical-align: top;\n",
       "    }\n",
       "\n",
       "    .dataframe thead th {\n",
       "        text-align: right;\n",
       "    }\n",
       "</style>\n",
       "<table border=\"1\" class=\"dataframe\">\n",
       "  <thead>\n",
       "    <tr style=\"text-align: right;\">\n",
       "      <th></th>\n",
       "      <th>index</th>\n",
       "      <th>features</th>\n",
       "      <th>importances</th>\n",
       "    </tr>\n",
       "  </thead>\n",
       "  <tbody>\n",
       "    <tr>\n",
       "      <th>0</th>\n",
       "      <td>2</td>\n",
       "      <td>Fare</td>\n",
       "      <td>0.258490</td>\n",
       "    </tr>\n",
       "    <tr>\n",
       "      <th>1</th>\n",
       "      <td>1</td>\n",
       "      <td>Age</td>\n",
       "      <td>0.250624</td>\n",
       "    </tr>\n",
       "    <tr>\n",
       "      <th>2</th>\n",
       "      <td>4</td>\n",
       "      <td>Sex_male</td>\n",
       "      <td>0.140475</td>\n",
       "    </tr>\n",
       "    <tr>\n",
       "      <th>3</th>\n",
       "      <td>7</td>\n",
       "      <td>Honorifics_Mr</td>\n",
       "      <td>0.138491</td>\n",
       "    </tr>\n",
       "    <tr>\n",
       "      <th>4</th>\n",
       "      <td>0</td>\n",
       "      <td>Pclass</td>\n",
       "      <td>0.090326</td>\n",
       "    </tr>\n",
       "    <tr>\n",
       "      <th>5</th>\n",
       "      <td>3</td>\n",
       "      <td>FamilyLabel</td>\n",
       "      <td>0.042403</td>\n",
       "    </tr>\n",
       "    <tr>\n",
       "      <th>6</th>\n",
       "      <td>8</td>\n",
       "      <td>Honorifics_Mrs</td>\n",
       "      <td>0.029149</td>\n",
       "    </tr>\n",
       "    <tr>\n",
       "      <th>7</th>\n",
       "      <td>6</td>\n",
       "      <td>Embarked_S</td>\n",
       "      <td>0.021498</td>\n",
       "    </tr>\n",
       "    <tr>\n",
       "      <th>8</th>\n",
       "      <td>5</td>\n",
       "      <td>Embarked_Q</td>\n",
       "      <td>0.010811</td>\n",
       "    </tr>\n",
       "    <tr>\n",
       "      <th>9</th>\n",
       "      <td>10</td>\n",
       "      <td>Honorifics_Royalty</td>\n",
       "      <td>0.009699</td>\n",
       "    </tr>\n",
       "    <tr>\n",
       "      <th>10</th>\n",
       "      <td>9</td>\n",
       "      <td>Honorifics_Officer</td>\n",
       "      <td>0.008034</td>\n",
       "    </tr>\n",
       "  </tbody>\n",
       "</table>\n",
       "</div>"
      ],
      "text/plain": [
       "    index            features  importances\n",
       "0       2                Fare     0.258490\n",
       "1       1                 Age     0.250624\n",
       "2       4            Sex_male     0.140475\n",
       "3       7       Honorifics_Mr     0.138491\n",
       "4       0              Pclass     0.090326\n",
       "5       3         FamilyLabel     0.042403\n",
       "6       8      Honorifics_Mrs     0.029149\n",
       "7       6          Embarked_S     0.021498\n",
       "8       5          Embarked_Q     0.010811\n",
       "9      10  Honorifics_Royalty     0.009699\n",
       "10      9  Honorifics_Officer     0.008034"
      ]
     },
     "execution_count": 54,
     "metadata": {},
     "output_type": "execute_result"
    }
   ],
   "source": [
    "from sklearn.ensemble import RandomForestClassifier\n",
    "\n",
    "# ランダムフォレストの作成\n",
    "RF = RandomForestClassifier(n_estimators=250, random_state=1)\n",
    "RF.fit(X_train_train, y_train_train)\n",
    "\n",
    "# 特徴量と重要度を取得\n",
    "features = X_train_train.columns\n",
    "importances = RF.feature_importances_\n",
    "\n",
    "# 表にする\n",
    "pd.DataFrame({'features':features, 'importances':importances}).sort_values('importances', ascending=False).reset_index()"
   ]
  },
  {
   "cell_type": "code",
   "execution_count": 55,
   "metadata": {},
   "outputs": [
    {
     "data": {
      "text/plain": [
       "0.7847533632286996"
      ]
     },
     "execution_count": 55,
     "metadata": {},
     "output_type": "execute_result"
    }
   ],
   "source": [
    "from sklearn.tree import DecisionTreeClassifier\n",
    "from sklearn.metrics import accuracy_score\n",
    "\n",
    "# 決定木モデルの作成\n",
    "clf = DecisionTreeClassifier(max_depth=4)\n",
    "clf.fit(X_train_train, y_train_train)\n",
    "\n",
    "# 予測\n",
    "clf_y_pred_test = clf.predict(X_train_test)\n",
    "\n",
    "# 正解率\n",
    "accuracy_score(y_train_test, clf_y_pred_test)"
   ]
  },
  {
   "cell_type": "code",
   "execution_count": 56,
   "metadata": {},
   "outputs": [],
   "source": [
    "pred_dtc_test = clf.predict(X_test)\n",
    "my_prediction = pd.DataFrame({\n",
    "                                                            'PassengerId':test['PassengerId'],\n",
    "                                                            'Survived':pred_dtc_test\n",
    "                                                        })\n",
    "my_prediction.to_csv('my_gender_submission_4.csv', index=False)"
   ]
  },
  {
   "cell_type": "code",
   "execution_count": null,
   "metadata": {},
   "outputs": [],
   "source": []
  },
  {
   "cell_type": "code",
   "execution_count": null,
   "metadata": {},
   "outputs": [],
   "source": []
  }
 ],
 "metadata": {
  "kernelspec": {
   "display_name": "Python 3",
   "language": "python",
   "name": "python3"
  },
  "language_info": {
   "codemirror_mode": {
    "name": "ipython",
    "version": 3
   },
   "file_extension": ".py",
   "mimetype": "text/x-python",
   "name": "python",
   "nbconvert_exporter": "python",
   "pygments_lexer": "ipython3",
   "version": "3.7.9"
  }
 },
 "nbformat": 4,
 "nbformat_minor": 4
}
